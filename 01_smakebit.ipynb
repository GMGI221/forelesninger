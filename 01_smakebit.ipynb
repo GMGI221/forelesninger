{
 "cells": [
  {
   "cell_type": "markdown",
   "id": "0",
   "metadata": {},
   "source": [
    "# 💻 En smakebit av Python\n",
    "\n",
    "## Oversikt\n",
    "\n",
    "I denne forelesningen skal vi få en smakebit av Python og se på noen grunnleggende konsepter som variabler og datatyper. Å kunne forstå disse grunnleggende prisippene er helt essensielt for å jobbe med romlige data. Med variabler kan du lagre og manipulere informasjon, mens datatyper definere hvilke operasjoner du kan utføre på disse variablene. \n",
    "\n",
    "Denne forelesningen er inspirert av [Introduction to GIS Programming](https://geog-312.gishub.org/book/python/02_variables.html) fra University of Tennessee.\n",
    "\n",
    "Du kan åpne denne Notebooken i [Binder](https://mybinder.org/v2/gh/GMGI221/forelesninger/83ccaddbc3555558dbc99dd981822d74370f3548?urlpath=lab%2Ftree%2F01_smakebit.ipynb)"
   ]
  },
  {
   "cell_type": "markdown",
   "id": "e64b45ac",
   "metadata": {},
   "source": [
    "<div style=\"border: 1px solid #ccc; padding: 10px; border-radius: 5px; background-color:rgb(177, 226, 250); color:#000;\">\n",
    "<strong>Spørsmål:</strong><br>\n",
    "Kjør cellen under for å svare på spørsmålet:\n",
    "</div>"
   ]
  },
  {
   "cell_type": "code",
   "execution_count": 1,
   "id": "069355e6",
   "metadata": {},
   "outputs": [
    {
     "data": {
      "text/html": [
       "\n",
       "        <iframe\n",
       "            width=\"800\"\n",
       "            height=\"600\"\n",
       "            src=\"https://haavard-polling.vercel.app/answer/b375adf1-e6a7-418d-bfaa-3a8dfe17def8\"\n",
       "            frameborder=\"0\"\n",
       "            allowfullscreen\n",
       "            \n",
       "        ></iframe>\n",
       "        "
      ],
      "text/plain": [
       "<IPython.lib.display.IFrame at 0x7f9fdf3b2510>"
      ]
     },
     "execution_count": 1,
     "metadata": {},
     "output_type": "execute_result"
    }
   ],
   "source": [
    "from IPython.display import IFrame\n",
    "\n",
    "IFrame(\"https://haavard-polling.vercel.app/answer/b375adf1-e6a7-418d-bfaa-3a8dfe17def8\", width=800, height=600)"
   ]
  },
  {
   "cell_type": "markdown",
   "id": "79a82680",
   "metadata": {},
   "source": [
    "<div style=\"border: 1px solid #ccc; padding: 10px; border-radius: 5px; background-color:rgb(177, 226, 250); color:#000;\">\n",
    "<strong>Spørsmål:</strong><br>\n",
    "Kjør cellen under for å svare på spørsmålet:\n",
    "</div>"
   ]
  },
  {
   "cell_type": "code",
   "execution_count": 2,
   "id": "df61412a",
   "metadata": {},
   "outputs": [
    {
     "data": {
      "text/html": [
       "\n",
       "        <iframe\n",
       "            width=\"800\"\n",
       "            height=\"600\"\n",
       "            src=\"https://haavard-polling.vercel.app/answer/433bc21f-7fd9-40ff-bc00-492c851be828\"\n",
       "            frameborder=\"0\"\n",
       "            allowfullscreen\n",
       "            \n",
       "        ></iframe>\n",
       "        "
      ],
      "text/plain": [
       "<IPython.lib.display.IFrame at 0x7f9fdf3b3f90>"
      ]
     },
     "execution_count": 2,
     "metadata": {},
     "output_type": "execute_result"
    }
   ],
   "source": [
    "from IPython.display import IFrame\n",
    "\n",
    "IFrame(\"https://haavard-polling.vercel.app/answer/433bc21f-7fd9-40ff-bc00-492c851be828\", width=800, height=600)"
   ]
  },
  {
   "cell_type": "markdown",
   "id": "1",
   "metadata": {},
   "source": [
    "## Variabler i Python\n",
    "\n",
    "I Python er variabler et symbolsk navn som refererer eller peker til et objekt. Etter at et objekt har blitt tildelt til en variabel kan du referere til objektet ved å bruke variabelnavnet.\n",
    "\n",
    "Vi kan begynne med å opprette en enkel variabel som representerer et antall punkter i et datasett."
   ]
  },
  {
   "cell_type": "code",
   "execution_count": null,
   "id": "2",
   "metadata": {},
   "outputs": [],
   "source": []
  },
  {
   "cell_type": "markdown",
   "id": "3",
   "metadata": {},
   "source": [
    "Variablen `antall_punkt` representerer nå heltallet 120 som vi nå kan bruke videre. \n",
    "\n",
    "For å se hva verdien av variablen er, kan vi bruke `print()`-funksjonen."
   ]
  },
  {
   "cell_type": "code",
   "execution_count": null,
   "id": "4",
   "metadata": {},
   "outputs": [],
   "source": []
  },
  {
   "cell_type": "markdown",
   "id": "5",
   "metadata": {},
   "source": [
    "I en Notebook som denne, kan vi også bare skrive variabelnavnet i en kodecelle og kjøre cellen for å vise variabelverdien."
   ]
  },
  {
   "cell_type": "code",
   "execution_count": null,
   "id": "6",
   "metadata": {},
   "outputs": [],
   "source": []
  },
  {
   "cell_type": "markdown",
   "id": "7",
   "metadata": {},
   "source": [
    "## Navngivning\n",
    "\n",
    "Når du navngir variabler er det noen tommelfingerregler som er nyttige å følge:\n",
    "\n",
    "- Variabelnavn må starte med en bokstav eller en understrek (`_`).\n",
    "- Resten av variabelnavnet kan bestå av bokstaver, tall og understreker.\n",
    "- Variabelnavn er følsomme for store og små bokstaver, så `antall_punkt` og `Antall_Punkt` er forskjellige variabler.\n",
    "- Variabelnavn bør være beskrivende og meningsfulle, slik som `antall_punkt` i stedet for `n`.\n",
    "- Unngå å bruke Python-nøkkelord og innebygde funksjoner som variabelnavn, sånn som `print`, `sum`, `list`, `dict`, `str`, `int`, `float`, `bool`, `set`, `tuple`, `range`, `type`, `object`, `None`, `True`, `False` og [mange fler](https://docs.python.org/3/library/functions.html)."
   ]
  },
  {
   "cell_type": "markdown",
   "id": "8",
   "metadata": {},
   "source": [
    "## Datatyper\n",
    "\n",
    "Python støtter et hav av datatyper og de aller fleste som vi bruker når vi jobber med romlige data. De vanligste datatypene inkluderer:\n",
    "\n",
    "**a) Heltall (int):** Dette er heltall som for eksempel: 1, 120, -5"
   ]
  },
  {
   "cell_type": "code",
   "execution_count": null,
   "id": "9",
   "metadata": {},
   "outputs": [],
   "source": []
  },
  {
   "cell_type": "markdown",
   "id": "10",
   "metadata": {},
   "source": [
    "**b) Flyttall (float):** Dette er tall med desimaler så som: 3.14, -0.001, 100.0. Desimaler skrives med punktum som desimaltegn."
   ]
  },
  {
   "cell_type": "code",
   "execution_count": null,
   "id": "11",
   "metadata": {},
   "outputs": [],
   "source": []
  },
  {
   "cell_type": "markdown",
   "id": "12",
   "metadata": {},
   "source": [
    "**c) Strenger (str):** Strenger er tekst eller bokstavkombinasjoner så som: \"Hello\", \"Lat/Long\""
   ]
  },
  {
   "cell_type": "code",
   "execution_count": null,
   "id": "13",
   "metadata": {},
   "outputs": [],
   "source": []
  },
  {
   "cell_type": "markdown",
   "id": "14",
   "metadata": {},
   "source": [
    "Strenger kan omringes av ett anførselestegn (`'`) eller doble anførselestegn (`\"`). Du kan også bruke triple anførselestegn (`'''` or `\"\"\"`) for strenger som går over flere linjer."
   ]
  },
  {
   "cell_type": "markdown",
   "id": "15",
   "metadata": {},
   "source": [
    "**d) Boolske variabler (bool):** Boolske variabler representerer en av to verdier: sant eller falsk / True or False"
   ]
  },
  {
   "cell_type": "code",
   "execution_count": null,
   "id": "16",
   "metadata": {},
   "outputs": [],
   "source": []
  },
  {
   "cell_type": "markdown",
   "id": "17",
   "metadata": {},
   "source": [
    "**e) Lister:** Lister er en ordnet samling av objekter. Lister kan innehold ulike typer objekter."
   ]
  },
  {
   "cell_type": "code",
   "execution_count": null,
   "id": "18",
   "metadata": {},
   "outputs": [],
   "source": []
  },
  {
   "cell_type": "markdown",
   "id": "19",
   "metadata": {},
   "source": [
    "**f) Ordbøker/Dictionaries (dict):** Ordbøker er en samling av par bestående av nøkkel og verdi."
   ]
  },
  {
   "cell_type": "code",
   "execution_count": null,
   "id": "20",
   "metadata": {},
   "outputs": [],
   "source": []
  },
  {
   "cell_type": "markdown",
   "id": "28",
   "metadata": {},
   "source": [
    "## Kommentarer\n",
    "\n",
    "Kommentarer brukes i koding til å forklare hva koden gjør og å gjøre koden mer lesbar. I Python starter kommentarer på en enkelt linje med `#`. Alt etter `#` på den linjen blir tolket som kommentar og blir ignorert av Python. For kommentarer som går over flere linjer, kan du bruke triple anførselestegn (`'''` or `\"\"\"`)."
   ]
  },
  {
   "cell_type": "code",
   "execution_count": null,
   "id": "29",
   "metadata": {},
   "outputs": [],
   "source": []
  },
  {
   "cell_type": "markdown",
   "id": "30",
   "metadata": {},
   "source": [
    "## Jobbe med variabler og datatyper\n",
    "\n",
    "Nå som vi kjenner til de grunnleggende datatypene og hvordan variabler fungerer, kan vi begynne å jobbe med de:\n",
    "\n",
    "Vi begynner med en enkel operasjon, å legge til en bestemt verdi til en allerede eksisterende variabel:"
   ]
  },
  {
   "cell_type": "code",
   "execution_count": null,
   "id": "31",
   "metadata": {},
   "outputs": [],
   "source": []
  },
  {
   "cell_type": "markdown",
   "id": "32",
   "metadata": {},
   "source": [
    "Konvertere lengdegrader fra grader til radianer:"
   ]
  },
  {
   "cell_type": "code",
   "execution_count": null,
   "id": "33",
   "metadata": {},
   "outputs": [],
   "source": [
    "import math\n"
   ]
  },
  {
   "cell_type": "markdown",
   "id": "34",
   "metadata": {},
   "source": [
    "Legge til koordinater til en liste:"
   ]
  },
  {
   "cell_type": "code",
   "execution_count": null,
   "id": "35",
   "metadata": {},
   "outputs": [],
   "source": []
  },
  {
   "cell_type": "markdown",
   "id": "36",
   "metadata": {},
   "source": [
    "Bruke innholdet i en ordbok:"
   ]
  },
  {
   "cell_type": "code",
   "execution_count": null,
   "id": "37",
   "metadata": {},
   "outputs": [],
   "source": []
  },
  {
   "cell_type": "markdown",
   "id": "38",
   "metadata": {},
   "source": [
    "## Bruk i en romlig kontekst\n",
    "\n",
    "Si at du har fått en liste med koordinatpar og har blitt bedt om å regne ut centroiden eller midtpunktet:\n",
    "\n",
    "Her er listen med koordinater (lengdegrad/breddegrad) som representerer fire byer:"
   ]
  },
  {
   "cell_type": "code",
   "execution_count": null,
   "id": "39",
   "metadata": {},
   "outputs": [],
   "source": []
  },
  {
   "cell_type": "markdown",
   "id": "40",
   "metadata": {},
   "source": [
    "Calculate the centroid:"
   ]
  },
  {
   "cell_type": "code",
   "execution_count": null,
   "id": "41",
   "metadata": {},
   "outputs": [],
   "source": []
  }
 ],
 "metadata": {
  "kernelspec": {
   "display_name": "gmgi221",
   "language": "python",
   "name": "python3"
  },
  "language_info": {
   "codemirror_mode": {
    "name": "ipython",
    "version": 3
   },
   "file_extension": ".py",
   "mimetype": "text/x-python",
   "name": "python",
   "nbconvert_exporter": "python",
   "pygments_lexer": "ipython3",
   "version": "3.11.9"
  }
 },
 "nbformat": 4,
 "nbformat_minor": 5
}
