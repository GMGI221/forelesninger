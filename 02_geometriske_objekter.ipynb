{
 "cells": [
  {
   "cell_type": "markdown",
   "metadata": {},
   "source": [
    "# 💻 Geometriske objekter\n",
    "\n",
    "All romlig vektordata kan beskrives ved å kombinere et sett med grunnleggende geometriske objekter: punkter, linjer og polygoner er de grunnleggende ingrediensene for å arbeide med romlige data.\n",
    "\n",
    "Som regel når vi jobber med geometriske objekter i Python gjør vi det med biblioteket [Shapely](https://shapely.readthedocs.io/en/stable/manual.html).\n",
    "\n",
    "I Python har biblioteket [shapely](https://shapely.readthedocs.io/en/stable/manual.html) blitt standardverktøyet for å arbeide med romlige objekter og for å utføre en rekke geometriske operasjoner. En grunnleggende forståelse av hvordan shapely fungerer er avgjørende for å bruke høyere nivå verktøy, som for eksempel geopandas (som vi kommer til senere) som håndterer hele datasett med geografisk informasjon (også kjent som 'lag').\n",
    "\n",
    "Shapely, som det store flertallet av romlige programvarer, følger datamodellen satt frem i [Open Geospatial Consortium's Simple Feature Access standard](https://www.ogc.org/standards/sfa). Her bruker vi terminologien brukt av shapely, men de generelle konseptene kan anvendes også bredere.\n",
    "## Datamodellen\n",
    "\n",
    "![Spatial data model](https://autogis-site.readthedocs.io/en/latest/_images/simple-features_595x500px.svg)\n",
    "\n",
    "`Punkt(Points)`, `Linjer(Lines)` og `Polygoner(Polygons)` er fundamentale geometriske objekter når vi jobber med romlig data i vektor formatet. I Python er [Shapely](https://shapely.readthedocs.io/en/stable/manual.html) biblioteket som brukes for å utføre diverse geometriske operasjoner.\n",
    "\n",
    "**Geometriske objekter består av koordinattuppler:**\n",
    "\n",
    "Koordinattuppler er det som brukes til å definere de geometriske grunnleggende elementene punkt, linje og polygon. Koordinattuppler er vanligvis enten todimensjonale (x, y) eller tredimensjonale (x, y, z).\n",
    "\n",
    "<div class=\"alert alert-info\">\n",
    "\n",
    "**Tuppler**\n",
    "\n",
    "En [Tuppel](https://docs.python.org/3/tutorial/datastructures.html#tuples-and-sequences) er en datastruktur i Python som består av et antall verdier separert av komma. Koordinatpar er ofte representert som tuppler. For eksempel:\n",
    "\n",
    "```\n",
    "(59.66539, 10.77604)\n",
    "``` \n",
    "\n",
    "Tuppler tilhører sekvens-datatypene i Python. Andre sekvens-datatyper er lister og intervaller(*range*). Tuppler har mange likheter med lister og intervaller, men de brukes ofte til forskjellige formål.\n",
    "\n",
    "Den viktigste forskjellen mellom tuppler og lister er at tuppler er uforanderlige(*immutable*), noe som betyr at innholdet i en tuppel ikke kan endres (mens lister er foranderlige; du kan for eksempel legge til og fjerne verdier fra lister).\n",
    "</div>\n",
    "\n",
    "**De vanligste geometriske objektene i python:**\n",
    "\n",
    "-  `Point` -objektet representerer et enkelt punkt i et rom. Punkt kan være enten todimensjonale (x, y) eller tredimensjonale (x, y, z).\n",
    "-  `LineString` -objektet representerer en sekvens av punkt som er koblet sammen og former en linje. En linje består dermed av en liste med minst to koordinattuppler.\n",
    "-  `Polygon` -objektet representerer et fyllt område som består av en liste med misnt tre koordinattuppler som utgjør den ytre ringen (og potensielt en liste med \"hull-polygoner\".\n",
    "\n",
    "**Det er også mulig å ha en samling med geometriske objekter (f.eks. et polygon med flere bestanddeler):**\n",
    "\n",
    "-  `MultiPoint` -objektet representerer en samling med punkt og består av en liste med koordinattuppler.\n",
    "-  `MultiLineString` -objektet representerer en samling med linjer og består av en liste med liste med linjelignende sekvenser.\n",
    "-  `MultiPolygon` -objektet representerer en samling med polygoner som består av en lsite med polygonlignende sekvenser.\n",
    "\n",
    "**Nyttige attributter og metoder i Shapely:**\n",
    "\n",
    "-  Lage linjer og polygoner fra en samling med punktobjekter.\n",
    "-  Regne ut areal/lengde/grenser osv. av geometrier.\n",
    "-  Utføre geometriske operasjoner fra input-geometrier så som; `union`, `difference`, `distance` osv.\n",
    "-  Utføre romlige spørringer mellom geometrier så som; `intersects`, `touches`, `crosses`, `within` osv.\n"
   ]
  },
  {
   "cell_type": "markdown",
   "metadata": {},
   "source": [
    "## Punkt\n",
    "\n",
    "Punkt lages ganske enkelt ved å gi `Point()`-objektet x- og y-koordinater:"
   ]
  },
  {
   "cell_type": "code",
   "execution_count": null,
   "metadata": {
    "collapsed": false,
    "jupyter": {
     "outputs_hidden": false
    },
    "tags": []
   },
   "outputs": [],
   "source": [
    "# Importer nødvendige geometriske objekter fra Shapely\n",
    "from shapely.geometry import Point, LineString, Polygon\n",
    "\n",
    "# Bruk koordinater til å lage geometriske objekter av typen Point\n",
    "punkt1 = \n",
    "punkt2 = \n",
    "punkt3 = \n",
    "punkt3D = "
   ]
  },
  {
   "cell_type": "code",
   "execution_count": null,
   "metadata": {
    "tags": []
   },
   "outputs": [],
   "source": [
    "punkt1"
   ]
  },
  {
   "cell_type": "markdown",
   "metadata": {},
   "source": [
    "Jupyter viser objektet direkte visuelt, men vi kan også få mer informasjon om definisjonen av disse objektene ved å bruke `print()`:"
   ]
  },
  {
   "cell_type": "code",
   "execution_count": null,
   "metadata": {
    "collapsed": false,
    "jupyter": {
     "outputs_hidden": false
    },
    "tags": []
   },
   "outputs": [],
   "source": []
  },
  {
   "cell_type": "markdown",
   "metadata": {},
   "source": [
    "3D-punkt kan kjennes igjen ved hjelp av Z-bokstaven foran koordinatene.\n",
    "\n",
    "Vi kan også finne ut datatypen for objektet:"
   ]
  },
  {
   "cell_type": "code",
   "execution_count": null,
   "metadata": {},
   "outputs": [],
   "source": [
    "type(punkt1)"
   ]
  },
  {
   "cell_type": "markdown",
   "metadata": {},
   "source": [
    "Her ser vi at objektet er et Shapely Point. Point-objektet er representert i et spesifikt format basert på [GEOS](https://trac.osgeo.org/geos) C++ biblioteket som er et av standardbibliotekene som brukes av ulike GIS-programmer. Det brukes blant annet som standard i [QGIS](http://www.qgis.org/en/site/). "
   ]
  },
  {
   "cell_type": "markdown",
   "metadata": {},
   "source": [
    "### Punkt-attributter og -funksjoner\n",
    "\n",
    "Punkt og andre shapely-objekter har innebygde [attributter og funkjoner](https://shapely.readthedocs.io/en/stable/manual.html#general-attributes-and-methods). Med de tilgjengelige attributtene kan vi blant annet hente ut koordinatverdiene og regne ut avstanden mellom ulike punkt."
   ]
  },
  {
   "cell_type": "markdown",
   "metadata": {},
   "source": [
    "`geom_type` attributten inneholder informasjon om geometritypen til et Shapely objekt:"
   ]
  },
  {
   "cell_type": "code",
   "execution_count": null,
   "metadata": {
    "tags": []
   },
   "outputs": [],
   "source": []
  },
  {
   "cell_type": "markdown",
   "metadata": {},
   "source": [
    "Man kan trekke ut koordinatene fra et `Point` på flere måter:\n",
    "\n",
    "`coords` attributtet inneholder blant annet informasjon om `CoordinateSequence`, en annen Shapely datatype:"
   ]
  },
  {
   "cell_type": "code",
   "execution_count": null,
   "metadata": {
    "tags": []
   },
   "outputs": [],
   "source": [
    "# List ut xy-koordinattuppel\n"
   ]
  },
  {
   "cell_type": "code",
   "execution_count": null,
   "metadata": {
    "collapsed": false,
    "jupyter": {
     "outputs_hidden": false
    },
    "tags": []
   },
   "outputs": [],
   "source": [
    "# Les in x- og y-koordinater separat\n",
    "x = \n",
    "y = "
   ]
  },
  {
   "cell_type": "code",
   "execution_count": null,
   "metadata": {},
   "outputs": [],
   "source": []
  },
  {
   "cell_type": "markdown",
   "metadata": {},
   "source": [
    "Man kan også regne ut avstanden mellom to objekter med [distance](https://shapely.readthedocs.io/en/stable/manual.html#object.distance) metoden. I dette eksemplet er avstanden målt i et kartesisk koordinatsystem. Når man jobber med ekte GIS-data er avstanden basert på koordinatsystemet som brukes. Man bør alltid sjekke hva som er måleenheten (meter, grader, osv.) i koordinatsystemet som brukes.\n",
    "\n",
    "La oss sjekke avstanden mellom `punkt1` og `punkt2`:"
   ]
  },
  {
   "cell_type": "code",
   "execution_count": null,
   "metadata": {},
   "outputs": [],
   "source": [
    "# Sjekk inputdata\n"
   ]
  },
  {
   "cell_type": "code",
   "execution_count": null,
   "metadata": {},
   "outputs": [],
   "source": [
    "# Regn ut avstanden mellom punkt1 og punkt 2\n",
    "\n",
    "\n",
    "# Print ut en info-beskjed\n",
    "print(f\"Avstanden mellom punktene er {avstand} enheter.\")"
   ]
  },
  {
   "cell_type": "markdown",
   "metadata": {},
   "source": [
    "<div style=\"border: 1px solid #ccc; padding: 10px; border-radius: 5px; background-color:rgb(177, 226, 250); color:#000;\">\n",
    "<strong>Spørsmål:</strong><br>\n",
    "Kjør cellen under for å svare på spørsmålet:\n",
    "</div>"
   ]
  },
  {
   "cell_type": "code",
   "execution_count": 1,
   "metadata": {},
   "outputs": [
    {
     "data": {
      "text/html": [
       "\n",
       "        <iframe\n",
       "            width=\"800\"\n",
       "            height=\"600\"\n",
       "            src=\"https://haavard-polling.vercel.app/answer/5b760769-0c01-459e-a16b-7506a23b0d63\"\n",
       "            frameborder=\"0\"\n",
       "            allowfullscreen\n",
       "            \n",
       "        ></iframe>\n",
       "        "
      ],
      "text/plain": [
       "<IPython.lib.display.IFrame at 0x7fc99f564a10>"
      ]
     },
     "execution_count": 1,
     "metadata": {},
     "output_type": "execute_result"
    }
   ],
   "source": [
    "from IPython.display import IFrame\n",
    "\n",
    "IFrame(\"https://haavard-polling.vercel.app/answer/5b760769-0c01-459e-a16b-7506a23b0d63\", width=800, height=600)"
   ]
  },
  {
   "cell_type": "markdown",
   "metadata": {},
   "source": [
    "## LineString\n",
    "\n",
    "Fremgangsmåten for å lage LineString-objekter er ganske lik som med Shapely punkter.\n",
    "\n",
    "I stedet for et enkelt koordinattuppel bruker vi her en liste med Shapely punkter eller en liste med koordinattuppler:"
   ]
  },
  {
   "cell_type": "code",
   "execution_count": null,
   "metadata": {
    "collapsed": false,
    "jupyter": {
     "outputs_hidden": false
    }
   },
   "outputs": [],
   "source": [
    "# Lag en LineString fra Point-objektene våre\n",
    "linje = "
   ]
  },
  {
   "cell_type": "code",
   "execution_count": null,
   "metadata": {},
   "outputs": [],
   "source": [
    "# Det er også mulig å produsere sammme resultat ved å bruke koordinattupler\n",
    "#[(2.2, 4.2), (7.2, -25.1), (9.26, -2.456)]\n",
    "linje2 = \n"
   ]
  },
  {
   "cell_type": "code",
   "execution_count": null,
   "metadata": {},
   "outputs": [],
   "source": [
    "# Sjekk om linjene er identiske\n"
   ]
  },
  {
   "cell_type": "markdown",
   "metadata": {},
   "source": [
    "La oss se hvordan linjen vår ser ut: "
   ]
  },
  {
   "cell_type": "code",
   "execution_count": null,
   "metadata": {},
   "outputs": [],
   "source": []
  },
  {
   "cell_type": "code",
   "execution_count": null,
   "metadata": {},
   "outputs": [],
   "source": [
    "print(linje)"
   ]
  },
  {
   "cell_type": "markdown",
   "metadata": {},
   "source": [
    "Som vi kan se så består `linje`-variablen vår av flere koordinatpar."
   ]
  },
  {
   "cell_type": "code",
   "execution_count": null,
   "metadata": {
    "tags": []
   },
   "outputs": [],
   "source": [
    "# Sjekk datatypen til linjeobjektet\n",
    "type(linje)"
   ]
  },
  {
   "cell_type": "code",
   "execution_count": null,
   "metadata": {},
   "outputs": [],
   "source": [
    "# Sjekk geometritypen til linjeobjektet\n",
    "linje.geom_type"
   ]
  },
  {
   "cell_type": "markdown",
   "metadata": {},
   "source": [
    "### LineString-attributter og funksjoner\n",
    "\n",
    "\n",
    "`LineString` -objekter har mange nyttige innebygde attributter og funksjoner. Vi kan for eksempel trekke ut koordinatene eller lenden på en linje, finne midtpunktet, lage punkter langs linjen med gitte mellomrom, eller regne ut den minste avstanden fra linjen til et punkt. Alle funksjonene er videre definert i [Shapely documentasjonen](http://toblerity.org/shapely/manual.html).\n",
    "\n",
    "Vi kan trekke ut koordinatene fra en LineString på samme måte som med et `Point`."
   ]
  },
  {
   "cell_type": "code",
   "execution_count": null,
   "metadata": {
    "collapsed": false,
    "jupyter": {
     "outputs_hidden": false
    }
   },
   "outputs": [],
   "source": [
    "# List ut xy-koordinattuppler\n"
   ]
  },
  {
   "cell_type": "markdown",
   "metadata": {},
   "source": [
    "Her har vi igjen en liste med koordinattuppler.\n",
    "\n",
    "Hvis vi vil bruke de individuelle x- eller y-koordinatene i linjen, kan vi bruke `xy`-attributten: "
   ]
  },
  {
   "cell_type": "code",
   "execution_count": null,
   "metadata": {
    "collapsed": false,
    "jupyter": {
     "outputs_hidden": false
    },
    "tags": []
   },
   "outputs": [],
   "source": [
    "# Les in x- og y-koordinater separat\n",
    "xkoordinater = \n",
    "ykoordinater = "
   ]
  },
  {
   "cell_type": "code",
   "execution_count": null,
   "metadata": {},
   "outputs": [],
   "source": []
  },
  {
   "cell_type": "markdown",
   "metadata": {},
   "source": [
    "Vi kan også hente ut spesifikke attributter, så som lengden av linjen og midtpunktet:"
   ]
  },
  {
   "cell_type": "code",
   "execution_count": null,
   "metadata": {
    "collapsed": false,
    "jupyter": {
     "outputs_hidden": false
    },
    "tags": []
   },
   "outputs": [],
   "source": [
    "# Les inn lengden av linjen\n",
    "\n",
    "print(f\"Lengden på linjen vår er: {linje_lengden} enheter\")"
   ]
  },
  {
   "cell_type": "code",
   "execution_count": null,
   "metadata": {},
   "outputs": [],
   "source": [
    "# Les inn centroiden av linjen\n"
   ]
  },
  {
   "cell_type": "markdown",
   "metadata": {},
   "source": [
    "Som vi kan se, så er midtpunktet også et Shapely Point-objekt."
   ]
  },
  {
   "cell_type": "markdown",
   "metadata": {},
   "source": [
    "<div style=\"border: 1px solid #ccc; padding: 10px; border-radius: 5px; background-color:rgb(177, 226, 250); color:#000;\">\n",
    "<strong>Spørsmål:</strong><br>\n",
    "Kjør cellen under for å svare på spørsmålet:\n",
    "</div>"
   ]
  },
  {
   "cell_type": "code",
   "execution_count": 1,
   "metadata": {},
   "outputs": [
    {
     "data": {
      "text/html": [
       "\n",
       "        <iframe\n",
       "            width=\"800\"\n",
       "            height=\"600\"\n",
       "            src=\"https://haavard-polling.vercel.app/answer/f32fa5e8-9067-4e1f-984e-ec741ea6518e\"\n",
       "            frameborder=\"0\"\n",
       "            allowfullscreen\n",
       "            \n",
       "        ></iframe>\n",
       "        "
      ],
      "text/plain": [
       "<IPython.lib.display.IFrame at 0x7fbbe9640210>"
      ]
     },
     "execution_count": 1,
     "metadata": {},
     "output_type": "execute_result"
    }
   ],
   "source": [
    "from IPython.display import IFrame\n",
    "\n",
    "IFrame(\"https://haavard-polling.vercel.app/answer/f32fa5e8-9067-4e1f-984e-ec741ea6518e\", width=800, height=600)"
   ]
  },
  {
   "cell_type": "markdown",
   "metadata": {},
   "source": [
    "## Polygon\n",
    "\n",
    "`Polygon` -objektet følger samme logikk som `Point` og `LineString`, bare at Polygon-objektet tar en sekvens eller liste av koordinater som input.\n",
    "\n",
    "Polygoner trenger **minst tre koordinattuppler**:"
   ]
  },
  {
   "cell_type": "code",
   "execution_count": null,
   "metadata": {
    "collapsed": false,
    "jupyter": {
     "outputs_hidden": false
    }
   },
   "outputs": [],
   "source": [
    "# Lag et polygon fra koordinater\n",
    "#[(2.2, 4.2), (7.2, -25.1), (9.26, -2.456)]\n",
    "poly = "
   ]
  },
  {
   "cell_type": "markdown",
   "metadata": {},
   "source": [
    "La oss se hvordan polygonet vårt ser ut:"
   ]
  },
  {
   "cell_type": "code",
   "execution_count": null,
   "metadata": {
    "tags": []
   },
   "outputs": [],
   "source": []
  },
  {
   "cell_type": "code",
   "execution_count": null,
   "metadata": {},
   "outputs": [],
   "source": []
  },
  {
   "cell_type": "code",
   "execution_count": null,
   "metadata": {},
   "outputs": [],
   "source": [
    "# Datatype\n"
   ]
  },
  {
   "cell_type": "code",
   "execution_count": null,
   "metadata": {},
   "outputs": [],
   "source": [
    "# Geometritype\n",
    "poly.geom_type"
   ]
  },
  {
   "cell_type": "markdown",
   "metadata": {},
   "source": [
    "Vi kan også lage polygoner med hull:"
   ]
  },
  {
   "cell_type": "code",
   "execution_count": null,
   "metadata": {},
   "outputs": [],
   "source": [
    "# Definer den ytre grensen\n",
    "border = "
   ]
  },
  {
   "cell_type": "code",
   "execution_count": null,
   "metadata": {},
   "outputs": [],
   "source": [
    "# Ytre polygon\n",
    "world = \n",
    "print(world)"
   ]
  },
  {
   "cell_type": "code",
   "execution_count": null,
   "metadata": {},
   "outputs": [],
   "source": [
    "world"
   ]
  },
  {
   "cell_type": "code",
   "execution_count": null,
   "metadata": {
    "tags": []
   },
   "outputs": [],
   "source": [
    "# La oss lage et stort hull 10 enheter fra kanten\n",
    "# NB: du kan ha flere hull, so vi må gi en liste med hull-koordinater\n",
    "hole = "
   ]
  },
  {
   "cell_type": "code",
   "execution_count": null,
   "metadata": {
    "tags": []
   },
   "outputs": [],
   "source": [
    "# Nå kan vi lage polygonet med hullet inni\n",
    "frame = \n",
    "print(frame)"
   ]
  },
  {
   "cell_type": "markdown",
   "metadata": {},
   "source": [
    "La oss se hva vi har:"
   ]
  },
  {
   "cell_type": "code",
   "execution_count": null,
   "metadata": {
    "tags": []
   },
   "outputs": [],
   "source": [
    "frame"
   ]
  },
  {
   "cell_type": "code",
   "execution_count": null,
   "metadata": {},
   "outputs": [],
   "source": [
    "print(frame)"
   ]
  },
  {
   "cell_type": "markdown",
   "metadata": {},
   "source": [
    "Som vi kan se, så har polygonet nå to sett med koordinattuppler. Det første representerer det ytterste polygonet, og det andre representererer hullet inni polygonet."
   ]
  },
  {
   "cell_type": "markdown",
   "metadata": {},
   "source": [
    "### Polygon attributter og funksjoner\n",
    "\n",
    "Vi kan også med polygoner bruke attributtene direkte fra `Polygon`-objektet, noe som kan være nyttig for ulike typer analyser. For eksempel: `area`, `centroid`, `bounding box`, `exterior`, og `exterior-length`. Den fulle listen av metoder finner du i [Shapely User Manual](https://shapely.readthedocs.io/en/stable/manual.html#the-shapely-user-manual).\n",
    "\n",
    "La oss se på noen av attributtene her:"
   ]
  },
  {
   "cell_type": "code",
   "execution_count": null,
   "metadata": {},
   "outputs": [],
   "source": [
    "# Print resultatene\n",
    "print(f\"Polygon centroid: {world.}\")\n",
    "print(f\"Polygon Area: {world.}\")\n",
    "print(f\"Polygon Bounding Box: {world.}\")\n",
    "print(f\"Polygon Exterior: {world.}\")\n",
    "print(f\"Polygon Exterior Length: {world.}\")"
   ]
  },
  {
   "cell_type": "markdown",
   "metadata": {},
   "source": [
    "Som vi kan se, er det forholdsvis enkelt å hente ut de ulike attributtene fra `Polygon`-objektet. Merk at avstandsmålene vil gi mer mening når man jobber med data i et projisert koordinatsystem."
   ]
  },
  {
   "cell_type": "markdown",
   "metadata": {},
   "source": [
    "<div style=\"border: 1px solid #ccc; padding: 10px; border-radius: 5px; background-color:rgb(177, 226, 250); color:#000;\">\n",
    "<strong>Spørsmål:</strong><br>\n",
    "Kjør cellen under for å svare på spørsmålet:\n",
    "</div>"
   ]
  },
  {
   "cell_type": "code",
   "execution_count": 2,
   "metadata": {},
   "outputs": [
    {
     "data": {
      "text/html": [
       "\n",
       "        <iframe\n",
       "            width=\"800\"\n",
       "            height=\"600\"\n",
       "            src=\"https://haavard-polling.vercel.app/answer/2ba408e2-3faa-446d-8264-b1684366c47d\"\n",
       "            frameborder=\"0\"\n",
       "            allowfullscreen\n",
       "            \n",
       "        ></iframe>\n",
       "        "
      ],
      "text/plain": [
       "<IPython.lib.display.IFrame at 0x7fbbe964d210>"
      ]
     },
     "execution_count": 2,
     "metadata": {},
     "output_type": "execute_result"
    }
   ],
   "source": [
    "from IPython.display import IFrame\n",
    "\n",
    "IFrame(\"https://haavard-polling.vercel.app/answer/2ba408e2-3faa-446d-8264-b1684366c47d\", width=800, height=600)"
   ]
  }
 ],
 "metadata": {
  "anaconda-cloud": {},
  "kernelspec": {
   "display_name": "gmgi221",
   "language": "python",
   "name": "python3"
  },
  "language_info": {
   "codemirror_mode": {
    "name": "ipython",
    "version": 3
   },
   "file_extension": ".py",
   "mimetype": "text/x-python",
   "name": "python",
   "nbconvert_exporter": "python",
   "pygments_lexer": "ipython3",
   "version": "3.11.9"
  }
 },
 "nbformat": 4,
 "nbformat_minor": 4
}
