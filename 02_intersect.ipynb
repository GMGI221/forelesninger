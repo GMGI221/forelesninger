{
 "cells": [
  {
   "cell_type": "markdown",
   "id": "a9a47bab",
   "metadata": {},
   "source": [
    "# 💻 Intersect\n",
    "\n",
    "Et annet vanlig spørsmål i en geografisk analyse er om to geometrier krysser eller berører hverandre.\n",
    "\n",
    "Begge spørringene er implementert i `shapely`:\n",
    "- [`intersects()`](https://shapely.readthedocs.io/en/stable/manual.html#object.intersects): to objekter krysser hverandre hvis grensen eller innsiden av et objekt krysser på noen måte med grensen eller innsiden av det andre objektet.\n",
    "- [`touches()`](https://shapely.readthedocs.io/en/stable/manual.html#object.touches): to objekter berører hverandre hvis objektene har minst ett punkt felles, men innsidene deres ikke krysser noen del av det andre objektet.\n",
    "\n",
    "La oss teste disse funksjonene, for eksempel ved å bruke to linjer:"
   ]
  },
  {
   "cell_type": "code",
   "execution_count": null,
   "id": "d9e03223",
   "metadata": {},
   "outputs": [],
   "source": [
    "import shapely.geometry\n",
    "\n",
    "linje1 = \n",
    "linje2 = "
   ]
  },
  {
   "cell_type": "code",
   "execution_count": null,
   "id": "d7230197",
   "metadata": {},
   "outputs": [],
   "source": []
  },
  {
   "cell_type": "markdown",
   "id": "81a11872",
   "metadata": {},
   "source": [
    "Linjene krysser. Berører de også?"
   ]
  },
  {
   "cell_type": "code",
   "execution_count": null,
   "id": "7ddd1a10",
   "metadata": {},
   "outputs": [],
   "source": []
  },
  {
   "cell_type": "markdown",
   "id": "4f0d5680",
   "metadata": {},
   "source": [
    "`linje1` berører `linje2`. Å gjøre de om til en multi-linje er en rask måte å\n",
    "tegne dem inne i en Jupyter-notebook:"
   ]
  },
  {
   "cell_type": "code",
   "execution_count": null,
   "id": "75b5262a",
   "metadata": {},
   "outputs": [],
   "source": []
  },
  {
   "cell_type": "markdown",
   "id": "ac512cda",
   "metadata": {},
   "source": [
    "Vi kan se her, at de deler punktet `(1, 1)`, der `linje1` slutter, og\n",
    "`linje2` begynner. De to linjene krysser ikke ellers (‘i deres indre’),\n",
    "så spådommen ’`touch()`’ - som definert ovenfor - er sann.\n",
    "\n",
    "Hvis linjene skulle dele noe av innsidene deres, ville det ikke bli regnet som\n",
    "berøring. For eksempel, `linje1` berører ikke `linje1` (seg selv), men oppfyller\n",
    "alle krav for å bli regnet som `intersect()`ing med seg selv:"
   ]
  },
  {
   "cell_type": "code",
   "execution_count": null,
   "id": "fd89e385",
   "metadata": {},
   "outputs": [],
   "source": []
  },
  {
   "cell_type": "code",
   "execution_count": null,
   "id": "9bf5948c",
   "metadata": {},
   "outputs": [],
   "source": []
  }
 ],
 "metadata": {
  "kernelspec": {
   "display_name": "Python 3 (ipykernel)",
   "language": "python",
   "name": "python3"
  },
  "language_info": {
   "codemirror_mode": {
    "name": "ipython",
    "version": 3
   },
   "file_extension": ".py",
   "mimetype": "text/x-python",
   "name": "python",
   "nbconvert_exporter": "python",
   "pygments_lexer": "ipython3",
   "version": "3.11.0"
  }
 },
 "nbformat": 4,
 "nbformat_minor": 5
}
