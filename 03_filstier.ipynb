{
 "cells": [
  {
   "cell_type": "markdown",
   "id": "aef7a771",
   "metadata": {},
   "source": [
    "# 💻 Håndtering av filstier\n",
    "\n",
    "[![Open In Colab](https://colab.research.google.com/assets/colab-badge.svg)](https://colab.research.google.com/github/GMGI221-2024/forelesninger/blob/main/03_filstier.ipynb)\n",
    "\n",
    "Når man jobber med data, er det viktig å holde oversikt over hvor hvilke input-filer er lagret, og hvor hvilke output-filer skal skrives. Dette er spesielt viktig når man flytter mellom datamaskiner eller mellom virtuelle maskiner. Bruker man et distribuert kodeoppbevaring- eller versjoneringssystem, som GitHub, legges det til et ekstra lag med kompleksitet: filstier bør ofte være *relative* til git-repoet, eller til den gjeldende filen, siden repositoriet kan klones til hvilken som helst plassering på en annen datamaskin (og bare et annet brukernavn på skole- og personlige datamaskiner kan ødelegge ting).\n",
    "\n",
    "Tidligere har filstier ofte vært hardkodede strenger, tekstverdier. Hvis for eksempel et utdatafilnavn måtte avledes fra et inndatafilnavn, ble alle slag av slicing og andre strengmanipulasjonsmetoder brukt. Mer nylig har `os.path`-modulen i Python blitt populær, som tillater å splitte en sti i kataloger, og filnavn i grunnnavn og filetternavn. I midlertid krever manipulering av filstier fortsatt kunnskap om den datamaskinen et skript til slutt skal kjøre på. For eksempel, på alle Unix-baserte operativsystemer, som Linux eller MacOS, er kataloger adskilt med skråstreker (`/`), mens Microsoft Windows bruker bakoverstreker (`\\`) (dette spesielle problemet kan omgås med `os.sep` og `os.path.join`, men ikke på en veldig praktisk måte).\n",
    "\n",
    "Siden Python 3.4 (så, ganske nylig), eksisterer det en innebygd modul som letter mye av problemene med å håndtere filstier: [`pathlib`](https://docs.python.org/3/library/pathlib.html). Den gir et abstrakt lag på toppen av de faktiske operativsystemets filstier som er konsistent mellom datamaskiner. Et `pathlib.Path()`-objekt kan initieres med en filsti (som en `str`), når den opprettes uten et argument, refererer den til katalogen til skriptet eller Notebook-filen."
   ]
  },
  {
   "cell_type": "code",
   "execution_count": null,
   "id": "82d42574",
   "metadata": {},
   "outputs": [],
   "source": [
    "import pathlib\n"
   ]
  },
  {
   "cell_type": "markdown",
   "id": "d554e09a",
   "metadata": {},
   "source": [
    "Så langt er denne stien ikke sjekket mot den faktiske katalogstrukturen, men vi kan bruke `resolve()` for å konvertere den til en absolutt sti:"
   ]
  },
  {
   "cell_type": "code",
   "execution_count": null,
   "id": "ec089273",
   "metadata": {},
   "outputs": [],
   "source": []
  },
  {
   "cell_type": "markdown",
   "id": "c43081bf",
   "metadata": {},
   "source": [
    ":::{note}\n",
    "\n",
    "Denne stien er nå utvidet for å gjenspeile katalogstrukturen til datamaskinen den ble kjørt på. Mest sannsynlig har kopien du leser akkurat nå blitt generert på [github.io](https://github.io/) servere, og *‘nåværende arbeidskatalog’* er på et sted du ikke forventet.\n",
    ":::\n",
    "\n",
    "Dette stiobjektet har nå en rekke egenskaper og metoder. For eksempel kan vi teste om stien eksisterer i filsystemet, eller om den er en katalog:"
   ]
  },
  {
   "cell_type": "code",
   "execution_count": null,
   "id": "a94fce34",
   "metadata": {},
   "outputs": [],
   "source": [
    "path."
   ]
  },
  {
   "cell_type": "code",
   "execution_count": null,
   "id": "f5f467ac",
   "metadata": {},
   "outputs": [],
   "source": [
    "path."
   ]
  },
  {
   "cell_type": "markdown",
   "id": "0f8b8ef2",
   "metadata": {},
   "source": [
    "Vi kunne også omdøpe eller slette stien (men la oss ikke gjøre dette med kursinnholdet!):"
   ]
  },
  {
   "cell_type": "code",
   "execution_count": null,
   "id": "f525d919",
   "metadata": {},
   "outputs": [],
   "source": [
    "# path.rename(\"new name\")\n",
    "\n",
    "# path.unlink()  # Slette hvis path er en fil\n",
    "# path.rmdir()  # Slette hvis path er en mappe"
   ]
  },
  {
   "cell_type": "markdown",
   "id": "4a3979be",
   "metadata": {},
   "source": [
    "Endelig, for å traversere innenfor denne stien, trenger du ikke å tenke på om du kjører skriptet på Windows eller Linux, og du trenger definitivt ikke å bruke strengmanipulasjon. For å henvise til en mappe `data` i samme katalog som denne notatboken, bruk `/` (divisjonsoperatøren) for å legge til en annen stikomponent (kan være en streng). For eksempel, for å henvise til en mappe `data` innenfor samme katalog som denne Notebooken, skriv følgende:"
   ]
  },
  {
   "cell_type": "code",
   "execution_count": null,
   "id": "adeded33",
   "metadata": {},
   "outputs": [],
   "source": []
  },
  {
   "cell_type": "markdown",
   "id": "0cafb535",
   "metadata": {},
   "source": [
    "For å henvise til ‘en katalog opp’ fra en sti, bruk dens `.parent`-egenskap:"
   ]
  },
  {
   "cell_type": "code",
   "execution_count": null,
   "id": "4cc769c9",
   "metadata": {},
   "outputs": [],
   "source": [
    "path"
   ]
  },
  {
   "cell_type": "markdown",
   "id": "8de20c53",
   "metadata": {},
   "source": [
    "`Path()`-objekter kan brukes (nesten) hvor som helst en filsti forventes som en variabel av typen `str`, da den automatisk *typecaster* (konverterer) seg selv til en passende type.\n",
    "\n",
    "I data science-prosjekter er det en god vane å definere en konstant i begynnelsen av hver notatbok som peker på datamappen, eller flere konstanter for å peke på, for eksempel, inngangs- og utgangsmapper. I dagens øvelser bruker vi forskjellige prøvedatasett fra filer lagret i samme *datamappe*. Øverst i notatbøkene definerer vi derfor en konstant `DATA_MAPPE` som vi senere kan bruke til å finne prøvedatasettfilene:"
   ]
  },
  {
   "cell_type": "code",
   "execution_count": null,
   "id": "088d341e",
   "metadata": {},
   "outputs": [],
   "source": [
    "# Lokasjonen (mappen) til notebooken\n",
    "import pathlib\n",
    "NOTEBOOK_PATH = pathlib.Path().resolve()\n"
   ]
  },
  {
   "cell_type": "code",
   "execution_count": null,
   "id": "dada18cf",
   "metadata": {},
   "outputs": [],
   "source": [
    "# Dette kan da brukes, for eksempel, i `geopandas.read_file()`\n",
    "import geopandas\n",
    "data_set"
   ]
  },
  {
   "cell_type": "markdown",
   "id": "ca3ac72b",
   "metadata": {},
   "source": [
    "<div style=\"border: 1px solid #ccc; padding: 10px; border-radius: 5px; background-color:rgb(177, 226, 250); color:#000;\">\n",
    "<strong>Spørsmål:</strong><br>\n",
    "Kjør cellen under for å svare på spørsmålet:\n",
    "</div>"
   ]
  },
  {
   "cell_type": "code",
   "execution_count": 2,
   "id": "5bd2f8fc",
   "metadata": {},
   "outputs": [
    {
     "data": {
      "text/html": [
       "\n",
       "        <iframe\n",
       "            width=\"800\"\n",
       "            height=\"600\"\n",
       "            src=\"https://haavard-polling.vercel.app/answer/ff0827b9-5c24-4970-9baa-5dc394239bbe\"\n",
       "            frameborder=\"0\"\n",
       "            allowfullscreen\n",
       "            \n",
       "        ></iframe>\n",
       "        "
      ],
      "text/plain": [
       "<IPython.lib.display.IFrame at 0x7f6ecd1d8590>"
      ]
     },
     "execution_count": 2,
     "metadata": {},
     "output_type": "execute_result"
    }
   ],
   "source": [
    "from IPython.display import IFrame\n",
    "\n",
    "IFrame(\"https://haavard-polling.vercel.app/answer/ff0827b9-5c24-4970-9baa-5dc394239bbe\", width=800, height=600)"
   ]
  },
  {
   "cell_type": "markdown",
   "id": "62da9bd7",
   "metadata": {},
   "source": [
    ":::{admonition} Konstanter?\n",
    ":class: note\n",
    "\n",
    "*Konstanter* er verdier som ikke kan endres når de er definert. Dette hjelper med å optimere programmets hastighet og minneavtrykk, og lar også programmereren stole på at en konstant har en gyldig verdi.\n",
    "\n",
    "Python kjenner ikke konseptet med en konstant, per se. Imidlertid er det en konvensjon å behandle variabler med navn med kun store bokstaver som konstanter (at de ikke skal endres).\n",
    ":::\n",
    "\n",
    ":::{caution}\n",
    "\n",
    "I eksemplene ovenfor brukte vi en sti hvor vi brukte `resolve()` tidligere. Dette forbedrer ytterligere kompatibilitet og konsistens mellom operativsystemer og lokale installasjoner.\n",
    "\n",
    "Spesielt når du bruker stien til den gjeldende filen (som i `pathlib.Path()` uten parametere), anbefaler vi å løse stien før du går inn i noen annen katalog.\n",
    ":::"
   ]
  },
  {
   "cell_type": "markdown",
   "id": "70c43ce3",
   "metadata": {},
   "source": []
  }
 ],
 "metadata": {
  "kernelspec": {
   "display_name": "gmgi221",
   "language": "python",
   "name": "python3"
  },
  "language_info": {
   "codemirror_mode": {
    "name": "ipython",
    "version": 3
   },
   "file_extension": ".py",
   "mimetype": "text/x-python",
   "name": "python",
   "nbconvert_exporter": "python",
   "pygments_lexer": "ipython3",
   "version": "3.11.9"
  }
 },
 "nbformat": 4,
 "nbformat_minor": 5
}
