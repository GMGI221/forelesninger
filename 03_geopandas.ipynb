{
 "cells": [
  {
   "cell_type": "markdown",
   "id": "2b74d3b0",
   "metadata": {},
   "source": [
    "# 💻 Geopandas: en introduksjon\n",
    "\n",
    "[![Open In Colab](https://colab.research.google.com/assets/colab-badge.svg)](https://colab.research.google.com/github/GMGI221-2024/forelesninger/blob/main/04_geopandas.ipynb)\n",
    "\n",
    "I denne seksjonen vil vi dekke det grunnleggende med *geopandas*, et Python-bibliotek for\n",
    "å samhandle med romlig vektordata.\n",
    "\n",
    "[Geopandas](https://geopandas.org/) gir et brukervennlig grensesnitt til vektordatasett. Det kombinerer mulighetene til *pandas*\n",
    "med geometrikapabilitetene til\n",
    "[shapely](#02_geometriske_objekter), [romlig-filformateringstøtte\n",
    "fra fiona](#03_vektor) og kartprojeksjonsbibliotekene til\n",
    "pyproj(som vi ser på neste uke).\n",
    "\n",
    "Hoveddatastrukturene i geopandas er `GeoDataFrame`s og `GeoSeries`. De\n",
    "utvider funksjonaliteten til `pandas.DataFrame`s og `pandas.Series`.\n",
    "\n",
    "Det er en nøkkelforskjell mellom pandas dataframes og geopandas\n",
    "[`GeoDataFrame`s](https://geopandas.org/en/stable/docs/user_guide/data_structures.html#geodataframe):\n",
    "en `GeoDataFrame` inneholder en ekstra kolonne for geometrier. Som standard er\n",
    "navnet på denne kolonnen `geometry`, og det er en\n",
    "[`GeoSeries`](https://geopandas.org/en/stable/docs/user_guide/data_structures.html#geoseries)\n",
    "som inneholder geometrier (punkter, linjer, polygoner, ...) som\n",
    "`shapely.geometry` objekter."
   ]
  },
  {
   "cell_type": "code",
   "execution_count": null,
   "id": "746d2668",
   "metadata": {
    "tags": [
     "remove-input"
    ]
   },
   "outputs": [],
   "source": [
    "import pathlib\n",
    "import geopandas\n",
    "import numpy\n",
    "\n",
    "DATA_MAPPE = pathlib.Path().resolve() / \"data\"\n",
    "\n",
    "HIGHLIGHT_STYLE = \"background: #f66161;\"\n",
    "\n",
    "# så følgende blokk er litt dårlig magi for å få tabellutdataen til å se\n",
    "# fin ut (denne cellen er skjult, vi er bare interessert i en kort tabellisting\n",
    "# der geometrikolonnen er fremhevet).\n",
    "#\n",
    "# For dette, vi\n",
    "#    1. konverterer geopandas tilbake til en ‘normal’ pandas.DataFrame med en forkortet\n",
    "#       WKT-streng i geometrikolonnen\n",
    "#    1b. samtidig som vi gjør det, blir vi kvitt de fleste av kolonnene (gir de gjenværende kolonner nye navn)\n",
    "#    2. bruker stilen på alle celler i kolonnen \"geometry\", og til aksen-1-indeksen \"geometry\"\n",
    "\n",
    "# Hvorfor gikk jeg via en ‘plain’ `pandas.DataFrame`?\n",
    "# `pandas.set_option(\"display.max_colwidth\", 40)` ble ignorert, så dette så ut som den reneste måten\n",
    "\n",
    "df = geopandas.read_file(DATA_MAPPE / \"arealdekke\" / \"ArealdekkeN50.gpkg\")\n",
    "\n",
    "df[\"geom\"] = df.geometry.to_wkt().apply(lambda wkt: wkt[:40] + \" ...\")\n",
    "\n",
    "df = df[[\"klasse\", \"klasse_navn\", \"geometry\"]]\n",
    "\n",
    "(\n",
    "    df.head().style\n",
    "        .map(lambda x: HIGHLIGHT_STYLE, subset=[\"geometry\"])\n",
    "        .apply_index(lambda x: numpy.where(x.isin([\"geometry\"]), HIGHLIGHT_STYLE, \"\"), axis=1)\n",
    ")"
   ]
  },
  {
   "cell_type": "markdown",
   "id": "bfb5bf80",
   "metadata": {},
   "source": [
    "## Inputdata: Arealdekke over Ås kommune\n",
    "\n",
    "I denne notebooken skal vi jobbe med et modifisert datasett fra [Kartverkets N50-serie](https://www.kartverket.no/api-og-data/kartgrunnlag-fastlands-norge).\n",
    "\n",
    "Til denne notebooken har vi lastet ned Arealdekke-data og endret det noe for å passe til formålet for denne timen. Dataene er lastet ned fra [Geonorge](https://kartkatalog.geonorge.no/metadata/n50-kartdata/ea192681-d039-42ec-b1bc-f3ce04c189ac). Filen vi skal jobbe med ligger i `data/ArealdekkeN50.gpkg`.\n",
    "\n",
    "---\n",
    "\n",
    "## Les og utforsk romlig datasett\n",
    "\n",
    "Før vi prøver å laste inn noen filer, la oss ikke glemme å definere en konstant\n",
    "som peker til vår datamappe:"
   ]
  },
  {
   "cell_type": "code",
   "execution_count": null,
   "id": "a707bab1",
   "metadata": {},
   "outputs": [],
   "source": [
    "import pathlib \n"
   ]
  },
  {
   "cell_type": "markdown",
   "id": "e1edc1a4",
   "metadata": {},
   "source": [
    "I denne notebooken skal vi fokusere på arealdekke-klasser\n",
    "\n",
    "**Målet vårt i denne notebooken er å lagre alle arealdekke-klassene i separate filer**.\n",
    "\n",
    "*Arealdekke-klasser i den datasettet:*\n",
    "\n",
    "|  Klasse | Navn på klasse   \n",
    "|----------------|-----------\n",
    "| 100          | myr\n",
    "| 110          | steinbrudd\n",
    "| 120          | tettbebyggelse\n",
    "| 200          | innsjø\n",
    "| 300          | indstriområde\n",
    "| 400          | havflate\n",
    "| 500          | gravplass\n",
    "| 600          | dyrket mark\n",
    "| 700          | åpent område\n",
    "| 800          | skog\n",
    "| 900          | sportidrettplass\n",
    "\n",
    ":::{admonition} Søk etter filer ved hjelp av et mønster\n",
    ":class: hint\n"
   ]
  },
  {
   "cell_type": "code",
   "execution_count": null,
   "id": "5e0779ec",
   "metadata": {},
   "outputs": [],
   "source": []
  },
  {
   "cell_type": "markdown",
   "id": "633975e4",
   "metadata": {},
   "source": [
    "Først, sjekk datatype av det leste datasettet:"
   ]
  },
  {
   "cell_type": "code",
   "execution_count": null,
   "id": "e1637c47",
   "metadata": {},
   "outputs": [],
   "source": []
  },
  {
   "cell_type": "markdown",
   "id": "c8454e5a",
   "metadata": {},
   "source": [
    "Alt gikk bra, og vi har en `geopandas.GeoDataFrame`. \n",
    "La oss også utforske dataene: (1) skriv ut de første få radene, og \n",
    "(2) list opp kolonnene."
   ]
  },
  {
   "cell_type": "code",
   "execution_count": null,
   "id": "21b60ec6",
   "metadata": {},
   "outputs": [],
   "source": []
  },
  {
   "cell_type": "code",
   "execution_count": null,
   "id": "6dd48de3",
   "metadata": {},
   "outputs": [],
   "source": []
  },
  {
   "cell_type": "markdown",
   "id": "034d4fd4",
   "metadata": {},
   "source": [
    "Dette datasettet har flere kolonner enn vi trenger, la oss gjøre et utvalg av de vi trenger. Vi beholder 'klasse’ og ’klassenavn’, og selvfølgelig kolonnen `geometry`."
   ]
  },
  {
   "cell_type": "code",
   "execution_count": null,
   "id": "8d02e53a",
   "metadata": {},
   "outputs": [],
   "source": []
  },
  {
   "cell_type": "markdown",
   "id": "e61deeb1",
   "metadata": {},
   "source": [
    "Hvordan ser datasettet ut nå?"
   ]
  },
  {
   "cell_type": "code",
   "execution_count": null,
   "id": "523c54ca",
   "metadata": {},
   "outputs": [],
   "source": []
  },
  {
   "cell_type": "markdown",
   "id": "7974c002",
   "metadata": {},
   "source": [
    ":::{admonition} Sjekk din forståelse:\n",
    ":class: hint\n",
    "\n",
    "Bruk dine pandas ferdigheter på dette geopandas datasettet for å finne ut følgende\n",
    "informasjon:\n",
    "\n",
    "- Hvor mange rader har datasettet?\n",
    "- Hvor mange unike klasser?\n",
    ":::\n",
    "\n"
   ]
  },
  {
   "cell_type": "code",
   "execution_count": null,
   "id": "390a9181",
   "metadata": {},
   "outputs": [],
   "source": []
  },
  {
   "cell_type": "markdown",
   "id": "950ccdce",
   "metadata": {},
   "source": [
    "\n",
    "---\n",
    "\n",
    "### Utforsk datasettet på et kart:\n",
    "\n",
    "Som geografer, elsker vi kart. Men utover det, er det alltid en god idé å\n",
    "utforske et nytt datasett også på et kart. For å lage et enkelt kart av en\n",
    "`geopandas.GeoDataFrame`, bruk ganske enkelt dens `plot()` metode. Den fungerer likt som\n",
    "i pandas, men **tegner et kart basert på geometriene i datasettet** i stedet for et diagram."
   ]
  },
  {
   "cell_type": "code",
   "execution_count": null,
   "id": "132b77b4",
   "metadata": {},
   "outputs": [],
   "source": []
  },
  {
   "cell_type": "markdown",
   "id": "d6e3669c",
   "metadata": {},
   "source": [
    "Voilá! Det er faktisk så enkelt å lage et kart ut av et geografisk datasett.\n",
    "Geopandas posisjonerer automatisk kartet ditt på en måte som dekker hele\n",
    "utstrekningen av dataene dine.\n",
    "\n",
    "### Geometrier i geopandas\n",
    "\n",
    "Geopandas drar nytte av shapelys geometriobjekter. Geometrier lagres\n",
    "i en kolonne kalt *geometry*.\n",
    "\n",
    "La oss skrive ut de første 5 radene av kolonnen `geometry`:"
   ]
  },
  {
   "cell_type": "code",
   "execution_count": null,
   "id": "8f7bafdb",
   "metadata": {},
   "outputs": [],
   "source": []
  },
  {
   "cell_type": "markdown",
   "id": "c1cb36b2",
   "metadata": {},
   "source": [
    "Kolonnen `geometry` inneholder kjente verdier:\n",
    "*Well-Known Text* (WKT) strenger. La deg ikke lure, de er faktisk,\n",
    "`shapely.geometry` objekter (du husker de kanskje fra [forrige uke](#02_geometriske_objekter)) som når man bruke `print()` eller konverterer til\n",
    "en `str`, blir representert som en WKT-streng).\n",
    "\n",
    "Siden geometriene i en `GeoDataFrame` er lagret som shapely-objekter, kan vi\n",
    "bruke **shapely metoder** for å håndtere geometrier i geopandas.\n",
    "\n",
    "La oss ta en nærmere titt på (en av) polygon-geometriene i datasettet,\n",
    "og prøve å bruke noe av shapely-funksjonaliteten vi allerede er kjent med. For enkelhetens skyld, jobber vi først med geometrien til bare den aller første linjen:"
   ]
  },
  {
   "cell_type": "code",
   "execution_count": null,
   "id": "89c5a119",
   "metadata": {},
   "outputs": [],
   "source": [
    "# Verdien av kolonnen `geometry` i rad 0:\n"
   ]
  },
  {
   "cell_type": "code",
   "execution_count": null,
   "id": "42c86daf",
   "metadata": {},
   "outputs": [],
   "source": [
    "# Skriv ut informasjon om arealet \n",
    "print(f\"Område: {} m².\")"
   ]
  },
  {
   "cell_type": "markdown",
   "id": "9819c5af",
   "metadata": {},
   "source": [
    ":::{admonition} Områdemålenhet\n",
    ":class: note\n",
    "\n",
    "Her kjenner vi koordinatsystemet (CRS) til inputdatasettet. CRS definerer også måleenheten (i vårt tilfelle, meter). Derfor kan vi skrive ut det beregnede området, inkludert en områdemåleenhet (kvadratmeter).\n",
    ":::\n",
    "\n",
    "\n",
    "La oss gjøre det samme for flere rader, og utforske ulike måter å gjøre det på.\n",
    "Først bruker vi  `iterrows()`-metoden:"
   ]
  },
  {
   "cell_type": "code",
   "execution_count": null,
   "id": "3a5ce1c6",
   "metadata": {},
   "outputs": [],
   "source": [
    "# Iterer over de første 5 radene i datasettet\n"
   ]
  },
  {
   "cell_type": "markdown",
   "id": "e053d85b",
   "metadata": {},
   "source": [
    "Som du ser er alle **pandas** funksjoner, som `iterrows()`-metoden, tilgjengelige i geopandas uten behov for å kalle pandas separat. Geopandas bygger på toppen av pandas, og arver mesteparten av funksjonaliteten.\n",
    "\n",
    "Selvfølgelig er ikke `iterrows()`-metoden den mest praktiske og effektive måten\n",
    "å beregne arealet til mange rader. Både `GeoSeries` (geometri-kolonner) og\n",
    "`GeoDataFrame`s har en `area`-egenskap:"
   ]
  },
  {
   "cell_type": "code",
   "execution_count": null,
   "id": "0397c2f6",
   "metadata": {},
   "outputs": [],
   "source": [
    "# `area`-egenskapen til en `GeoDataFrame`\n"
   ]
  },
  {
   "cell_type": "code",
   "execution_count": null,
   "id": "ccc78bdd",
   "metadata": {},
   "outputs": [],
   "source": [
    "# `area`-egenskapen til en `GeoSeries`\n"
   ]
  },
  {
   "cell_type": "markdown",
   "id": "a2b09c92",
   "metadata": {},
   "source": [
    "Det er enkelt å lage en ny kolonne som holder arealet:"
   ]
  },
  {
   "cell_type": "code",
   "execution_count": null,
   "id": "3858e586",
   "metadata": {},
   "outputs": [],
   "source": []
  },
  {
   "cell_type": "markdown",
   "id": "f15b57a7",
   "metadata": {},
   "source": [
    "<div style=\"border: 1px solid #ccc; padding: 10px; border-radius: 5px; background-color:rgb(177, 226, 250); color:#000;\">\n",
    "<strong>Spørsmål:</strong><br>\n",
    "Kjør cellen under for å svare på spørsmålet:\n",
    "</div>"
   ]
  },
  {
   "cell_type": "code",
   "execution_count": 1,
   "id": "6e5d1c20",
   "metadata": {},
   "outputs": [
    {
     "data": {
      "text/html": [
       "\n",
       "        <iframe\n",
       "            width=\"800\"\n",
       "            height=\"600\"\n",
       "            src=\"https://haavard-polling.vercel.app/answer/2e4018d5-d2cf-4c20-b79f-6c1f9c996966\"\n",
       "            frameborder=\"0\"\n",
       "            allowfullscreen\n",
       "            \n",
       "        ></iframe>\n",
       "        "
      ],
      "text/plain": [
       "<IPython.lib.display.IFrame at 0x7f150da29850>"
      ]
     },
     "execution_count": 1,
     "metadata": {},
     "output_type": "execute_result"
    }
   ],
   "source": [
    "from IPython.display import IFrame\n",
    "\n",
    "IFrame(\"https://haavard-polling.vercel.app/answer/2e4018d5-d2cf-4c20-b79f-6c1f9c996966\", width=800, height=600)"
   ]
  },
  {
   "cell_type": "markdown",
   "id": "cd83e402",
   "metadata": {},
   "source": [
    ":::{admonition} Beskrivende statistikk\n",
    ":class: hint\n",
    "\n",
    "Vet du hvordan du beregner *minimum*, *maksimum*, *sum*, *gjennomsnitt*, og\n",
    "*standardavvik* av en pandas-kolonne? ([Les mer her, hvis du trenger å friske opp Pandas-kunnskapene dine](https://pythongis.org/part1/chapter-03/nb/00-pandas-basics.html#descriptive-statistics))\n",
    "Hva er disse verdiene for arealkolonnen i datasettet?\n",
    ":::\n",
    "\n",
    "\n",
    "\n",
    "## Lagre en delmengde av data til en fil\n",
    "\n",
    "[Tidligere](#03_vektor), har vi lært\n",
    "hvordan vi skriver en hel `GeoDataFrame` til en fil. Vi kan også skrive en\n",
    "filtrert delmengde av et datasett til en ny fil, f.eks. for å hjelpe med behandlingen av komplekse datasett.\n",
    "\n",
    "Først, isoler innsjøene i inngangsdatasettet (klassenummer `200`, se tabell\n",
    "over):"
   ]
  },
  {
   "cell_type": "code",
   "execution_count": null,
   "id": "c79edd7e",
   "metadata": {},
   "outputs": [],
   "source": []
  },
  {
   "cell_type": "markdown",
   "id": "c0e8cae8",
   "metadata": {},
   "source": [
    "Deretter, tegn datadelmengden for å visuelt sjekke om den ser riktig ut:"
   ]
  },
  {
   "cell_type": "code",
   "execution_count": null,
   "id": "9f823abe",
   "metadata": {},
   "outputs": [],
   "source": []
  },
  {
   "cell_type": "markdown",
   "id": "9789f576",
   "metadata": {},
   "source": [
    "Og til slutt, skriv de filtrerte dataene til en Shapefile:"
   ]
  },
  {
   "cell_type": "code",
   "execution_count": null,
   "id": "68f87a89",
   "metadata": {},
   "outputs": [],
   "source": []
  },
  {
   "cell_type": "markdown",
   "id": "212094a8-d518-4d80-9207-eb17d9b46b1c",
   "metadata": {},
   "source": [
    "Sjekk [Vector Data I/O](#03_vektor) avsnittet for å se hvilke dataformater\n",
    "geopandas kan skrive til."
   ]
  },
  {
   "cell_type": "markdown",
   "id": "a3351d5f",
   "metadata": {},
   "source": [
    "## Gruppering av data\n",
    "\n",
    "En spesielt nyttig metode i (geo)pandas' dataframes er deres grupperingsfunksjon: [`groupby()`](https://pandas.pydata.org/docs/user_guide/groupby.html)\n",
    "kan **dele data inn i grupper** basert på noen kriterier, **bruke** en funksjon\n",
    "individuelt til hver av gruppene, og **kombinere** resultater av en slik\n",
    "operasjon i en felles datastruktur.\n",
    "\n",
    "Vi kan bruke *gruppering* her for å dele inputdatasettet vårt i delmengder som relatere\n",
    "til hver av `klasse`ne i arealdekke, deretter lagre en separat fil for hver\n",
    "klasse.\n",
    "\n",
    "La oss starte dette ved igjen å ta en titt på hvordan datasettet faktisk ser ut:"
   ]
  },
  {
   "cell_type": "code",
   "execution_count": null,
   "id": "39f59197",
   "metadata": {},
   "outputs": [],
   "source": []
  },
  {
   "cell_type": "markdown",
   "id": "fbda2c64",
   "metadata": {},
   "source": [
    "Husk: kolonnen `klasse` inneholder informasjon om en polygons arealbrukstype. Bruk metoden [`pandas.Series.unique()`](https://pandas.pydata.org/docs/reference/api/pandas.Series.unique.html) for å liste alle verdier som forekommer:"
   ]
  },
  {
   "cell_type": "code",
   "execution_count": null,
   "id": "259800c7",
   "metadata": {},
   "outputs": [],
   "source": []
  },
  {
   "cell_type": "markdown",
   "id": "893e9a94",
   "metadata": {},
   "source": [
    "For å gruppere data, bruk data-rammens `groupby()` metode, oppgi et kolonnenavn som parameter:"
   ]
  },
  {
   "cell_type": "code",
   "execution_count": null,
   "id": "dfe88718",
   "metadata": {},
   "outputs": [],
   "source": []
  },
  {
   "cell_type": "markdown",
   "id": "5e765e36",
   "metadata": {},
   "source": [
    "Så, `gruppert_data` er et `DataFrameGroupBy` objekt. Inne i et `GroupBy` objekt,\n",
    "er egenskapen `groups` en ordbok som fungerer som en oppslagstabell: den registrerer\n",
    "hvilke rader som hører til hvilken gruppe. Nøklene i ordboken er de unike\n",
    "verdiene av gruppekolonnen:"
   ]
  },
  {
   "cell_type": "code",
   "execution_count": null,
   "id": "d1b2d982",
   "metadata": {},
   "outputs": [],
   "source": []
  },
  {
   "cell_type": "markdown",
   "id": "fcc6f43b",
   "metadata": {},
   "source": [
    "Imidlertid kan man også ganske enkelt iterere over hele `GroupBy` objektet. La oss\n",
    "telle hvor mange rader med data hver gruppe har:"
   ]
  },
  {
   "cell_type": "code",
   "execution_count": null,
   "id": "01072ba9",
   "metadata": {},
   "outputs": [],
   "source": []
  },
  {
   "cell_type": "markdown",
   "id": "63b80254",
   "metadata": {},
   "source": [
    "Det er for eksempel 80 innsjøpolygoner (klasse `200`) i inngangsdatasettet.\n",
    "\n",
    "For å få alle rader som tilhører en bestemt gruppe, bruk `get_group()`\n",
    "metoden, som returnerer en helt ny `GeoDataFrame`:"
   ]
  },
  {
   "cell_type": "code",
   "execution_count": null,
   "id": "a1e32392",
   "metadata": {},
   "outputs": [],
   "source": []
  },
  {
   "cell_type": "markdown",
   "id": "25aafb13",
   "metadata": {},
   "source": [
    ":::{caution}OBS\n",
    "Indeksen i den nye data-frammen forblir den samme som i det ugrupperte inputdatasettet.\n",
    "Dette kan være nyttig, for eksempel når du vil slå sammen de grupperte dataene\n",
    "tilbake til de originale inputdataene.\n",
    ":::\n",
    "\n",
    "\n",
    "## Skriv grupperte data til separate filer\n",
    "\n",
    "Nå har vi alle nødvendige verktøy for hånden for å dele inputdataene i\n",
    "separate datasett for hver arealdekkeklasse, og skrive de individuelle delmengdene til\n",
    "nye, separate, filer. Faktisk ser koden nesten for enkel ut, gjør den ikke?"
   ]
  },
  {
   "cell_type": "code",
   "execution_count": null,
   "id": "bcbd8fc0",
   "metadata": {},
   "outputs": [],
   "source": [
    "# Iterer over inngangsdataene, gruppert etter \"klasse\"\n",
    "for key, group in data.groupby(\"klasse\"):\n",
    "    # lagre gruppen til en ny shapefile\n",
    "    "
   ]
  },
  {
   "cell_type": "markdown",
   "id": "00876918",
   "metadata": {},
   "source": [
    ":::{admonition} Filnavn\n",
    ":class: attention\n",
    "\n",
    "Vi brukte en `pathlib.Path` kombinert med en f-streng for å generere den nye output-filens sti og navn. Sjekk [Håndtering av filstier-notebooken](#03_filstier)\n",
    "for å gå gjennom hvordan de fungerer.\n",
    ":::\n",
    "\n",
    "\n",
    "## Ekstra: lagre sammendragsstatistikk til CSV regneark\n",
    "\n",
    "Når resultatene av en operasjon på en `GeoDataFrame` ikke inkluderer en\n",
    "geometri, vil data-rammen som kommer ut automatisk bli en 'vanlig'\n",
    "`pandas.DataFrame`, og kan lagres til standard tabellformater.\n",
    "\n",
    "En interessant anvendelse av dette er å lagre grunnleggende beskrivende statistikk av et geografisk datasett til en CSV-tabell. For eksempel ønsker vi kanskje å vite arealet hver arealdekkeklasse dekker.\n",
    "\n",
    "Igjen starter vi med å gruppere inputdataene etter arealdekke, og deretter beregne summen av hver klasses areal. Dette kan kondenseres til en linje med kode:"
   ]
  },
  {
   "cell_type": "code",
   "execution_count": null,
   "id": "5eb727ae",
   "metadata": {},
   "outputs": [],
   "source": []
  },
  {
   "cell_type": "markdown",
   "id": "02e752b4",
   "metadata": {},
   "source": [
    "Vi kan deretter lagre den resulterende tabellen til en CSV-fil ved å bruke  standard pandas tilnærming."
   ]
  },
  {
   "cell_type": "code",
   "execution_count": null,
   "id": "72bd1eb1",
   "metadata": {},
   "outputs": [],
   "source": []
  }
 ],
 "metadata": {
  "kernelspec": {
   "display_name": "gmgi221",
   "language": "python",
   "name": "python3"
  },
  "language_info": {
   "codemirror_mode": {
    "name": "ipython",
    "version": 3
   },
   "file_extension": ".py",
   "mimetype": "text/x-python",
   "name": "python",
   "nbconvert_exporter": "python",
   "pygments_lexer": "ipython3",
   "version": "3.11.9"
  }
 },
 "nbformat": 4,
 "nbformat_minor": 5
}
