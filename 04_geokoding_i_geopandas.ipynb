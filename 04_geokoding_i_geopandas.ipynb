{
 "cells": [
  {
   "cell_type": "markdown",
   "id": "8684bb9d",
   "metadata": {},
   "source": [
    "# 💻 Geokoding i geopandas\n",
    "\n",
    "\n",
    "Geopandas støtter geokoding via et bibliotek kalt\n",
    "[geopy](http://geopy.readthedocs.io/), som må være installert for å bruke\n",
    "[geopandas ' `geopandas.tools.geocode()`\n",
    "funksjon](https://geopandas.org/en/stable/docs/reference/api/geopandas.tools.geocode.html).\n",
    "`geocode()` forventer en `liste` eller `pandas.Series` av adresser (strenger) og\n",
    "returnerer en `GeoDataFrame` med løste adresser og punktgeometrier.\n",
    "\n",
    "La oss prøve dette ut.\n",
    "\n",
    "Vi vil geokode adresser lagret i en semikolon-separert tekstfil kalt\n",
    "`adresser.txt`. Disse adressene ligger i alle i Oslo."
   ]
  },
  {
   "cell_type": "code",
   "execution_count": 1,
   "id": "ca6ab35e",
   "metadata": {},
   "outputs": [],
   "source": [
    "import pathlib\n",
    "NOTEBOOK_PATH = pathlib.Path().resolve()\n",
    "DATA_MAPPE = NOTEBOOK_PATH / \"data\""
   ]
  },
  {
   "cell_type": "code",
   "execution_count": null,
   "id": "cbb3191e",
   "metadata": {},
   "outputs": [],
   "source": [
    "import pandas\n",
    "\n",
    "\n"
   ]
  },
  {
   "cell_type": "markdown",
   "id": "83aea158",
   "metadata": {},
   "source": [
    "Vi har en `id` for hver rad og en adresse i `adr` kolonnen.\n",
    "\n",
    "\n",
    "## Geokode adresser ved hjelp av *Nominatim*\n",
    "\n",
    "I vårt eksempel vil vi bruke *Nominatim* som en *geokodingstilbyder*. [*Nominatim*](https://nominatim.org/) er et bibliotek og en tjeneste som bruker OpenStreetMap-data, og drives av OpenStreetMap Foundation. Geopandas '\n",
    "[`geocode()`\n",
    "funksjon](https://geopandas.org/en/stable/docs/reference/api/geopandas.tools.geocode.html) støtter den innebygd.\n",
    "\n",
    "```{admonition} God bruk\n",
    ":class: note\n",
    "\n",
    "[Nominatims brukervilkår](https://operations.osmfoundation.org/policies/nominatim/)\n",
    "krever at brukere av tjenesten sørger for at de ikke sender mer hyppige\n",
    "forespørsler enn en per sekund, og at en tilpasset **bruker-agent** streng er\n",
    "knyttet til hver forespørsel.\n",
    "\n",
    "Geopandas' implementering lar oss spesifisere en `user_agent`; biblioteket tar også\n",
    "hånd om å respektere hastighetsbegrensningen til Nominatim.\n",
    "\n",
    "Å slå opp en adresse er en ganske kostbar databaseoperasjon. Derfor er det,\n",
    "noen ganger, den offentlige og gratise Nominatim-serveren bruker litt lenger tid å på\n",
    "svare. I dette eksempelet legger vi til en parameter `timeout=10` for å vente opptil 10\n",
    "sekunder for et svar.\n",
    "```"
   ]
  },
  {
   "cell_type": "code",
   "execution_count": null,
   "id": "0b593bb7",
   "metadata": {},
   "outputs": [],
   "source": [
    "import geopandas\n"
   ]
  },
  {
   "cell_type": "markdown",
   "id": "1b52ec03",
   "metadata": {},
   "source": [
    "Et voilà! Som et resultat fikk vi tilbake en `GeoDataFrame` som inneholder en analysert\n",
    "versjon av våre originale adresser og en `geometry` kolonne med\n",
    "`shapely.geometry.Point`s som vi kan bruke, for eksempel, til å eksportere dataene til\n",
    "et romlig dataformat.\n",
    "\n",
    "Imidlertid ble `id`-kolonnen forkastet i prosessen. For å kombinere inputdatasettet med resultatsettet vårt, kan vi bruke pandas' [*join*\n",
    "operasjoner](https://pandas.pydata.org/docs/user_guide/merging.html).\n",
    "\n",
    "\n",
    "## Koble sammen dataframes\n",
    "\n",
    ":::{admonition} Koble sammen datasett ved hjelp av pandas\n",
    ":class: note\n",
    "\n",
    "For en omfattende oversikt over forskjellige måter å kombinere dataframes og\n",
    "Series, ta en titt på pandas dokumentasjon om [merge,\n",
    "join og\n",
    "concatenate](https://pandas.pydata.org/pandas-docs/stable/user_guide/merging.html).\n",
    ":::\n",
    "\n",
    "\n",
    "Å koble data fra to eller flere dataframes eller tabeller er en vanlig oppgave i mange\n",
    "(romlige) dataanalysearbeidsflyter. Kombinering av data fra forskjellige tabeller basers på en felles **nøkkel**-attributt gjøres enkelt i pandas/geopandas ved hjelp av [`merge()`\n",
    "funksjonen](https://pandas.pydata.org/pandas-docs/stable/reference/api/pandas.DataFrame.merge.html).\n",
    "\n",
    "Men, noen ganger er det nyttig å koble to dataframes sammen basert på deres\n",
    "**indeks**. Dataframes må ha **samme antall rader** og\n",
    "**dele den samme indeksen** (enkelt forklart, de skal ha samme rekkefølge av rader).\n",
    "\n",
    "Vi kan bruke denne tilnærmingen, for å koble informasjon fra den originale dataframen `adresser` til de geokodede adressene `geokodede_adresser`, rad for rad.\n",
    "`join()`-funksjonen, som standard, kobler to dataframes basert på indeksen deres.\n",
    "Dette fungerer for eksemplet vårt, da rekkefølgen på de to dataframesene er identiske."
   ]
  },
  {
   "cell_type": "code",
   "execution_count": null,
   "id": "20d02f02",
   "metadata": {},
   "outputs": [],
   "source": []
  },
  {
   "cell_type": "markdown",
   "id": "5a1cc532",
   "metadata": {},
   "source": [
    "Utdataen fra `join()` er en ny `geopandas.GeoDataFrame`:"
   ]
  },
  {
   "cell_type": "code",
   "execution_count": null,
   "id": "c8f525c6",
   "metadata": {},
   "outputs": [],
   "source": []
  },
  {
   "cell_type": "markdown",
   "id": "ed1a5b79",
   "metadata": {},
   "source": [
    "Den nye data rammen har alle originale kolonner pluss nye kolonner for `geometry`\n",
    "og for en analysert `adresse` som kan brukes til å spot-sjekke resultatene.\n",
    "\n",
    ":::{note}\n",
    "Hvis du skulle gjøre join den andre veien, dvs. `adresser.join(geokodede_adresser)`, ville utdata være en `pandas.DataFrame`, ikke en `geopandas.GeoDataFrame`.\n",
    ":::\n",
    "\n",
    "\n",
    "---\n",
    "\n",
    "\n",
    "Det er nå enkelt å lagre det nye datasettet som en geospatial fil, for eksempel, i\n",
    "*GeoPackage* format:"
   ]
  },
  {
   "cell_type": "code",
   "execution_count": 6,
   "id": "037e6330",
   "metadata": {
    "tags": [
     "remove-input",
     "remove-output"
    ]
   },
   "outputs": [],
   "source": [
    "# slett en muligens eksisterende fil, da den skaper\n",
    "# problemer i tilfelle sphinx kjøres gjentatte ganger\n",
    "try:\n",
    "    (DATA_MAPPE / \"oslo_adresser\" / \"adresser.gpkg\").unlink()\n",
    "except FileNotFoundError:\n",
    "    pass"
   ]
  },
  {
   "cell_type": "code",
   "execution_count": 7,
   "id": "89fee980",
   "metadata": {},
   "outputs": [],
   "source": []
  }
 ],
 "metadata": {
  "kernelspec": {
   "display_name": "Python 3 (ipykernel)",
   "language": "python",
   "name": "python3"
  },
  "language_info": {
   "codemirror_mode": {
    "name": "ipython",
    "version": 3
   },
   "file_extension": ".py",
   "mimetype": "text/x-python",
   "name": "python",
   "nbconvert_exporter": "python",
   "pygments_lexer": "ipython3",
   "version": "3.11.9"
  }
 },
 "nbformat": 4,
 "nbformat_minor": 5
}
