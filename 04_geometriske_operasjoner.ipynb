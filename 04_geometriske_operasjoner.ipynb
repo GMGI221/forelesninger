{
  "cells": [
    {
      "cell_type": "markdown",
      "id": "70db89f0",
      "metadata": {
        "editable": true,
        "slideshow": {
          "slide_type": ""
        },
        "tags": []
      },
      "source": [
        "# 💻 Vanlige geometriske operasjoner"
      ]
    },
    {
      "cell_type": "markdown",
      "id": "5e8c8dab",
      "metadata": {
        "editable": true,
        "slideshow": {
          "slide_type": ""
        },
        "tags": []
      },
      "source": [
        "Geometriske operasjoner refererer til et sett med metoder som kan brukes til å behandle og analysere geometriske objekter, som punkter, linjer og polygoner. Disse operasjonene lar oss for eksempel stille spørsmål om hvordan to eller flere geografiske objekter forholder seg til hverandre: Krysser de, berører eller overlapper de hverandre? Ligger de ved siden av hverandre? Hvor langt fra hverandre er de? Med verktøyene samlet i geopandas er det enkelt å utføre denne typen operasjoner. Når vi fordyper oss i de geometriske operasjonene, vil du oppdage at de danner grunnlaget for mange romlige analyser, og muliggjør innsikt som er ofte vanskelig å skille fra ikke-romlige data alene.\n",
        "\n",
        "I denne notebooken (inspirert av [Python for Geographic Data Analysis](https://pythongis.org/part2/chapter-06/nb/02-geometric-operations.html)) demonstrerer vi noen av de vanligste geometriske manipulasjonsfunksjonene som er tilgjengelige i geopandas. \n",
        "\n",
        "Geometriske manipulasjoner er ofte nyttige f.eks. når vi arbeider med data relatert til administrative grenser, da vi ofte må transformere eller manipulere de geografiske dataene på en eller annen måte for videre analyse og visualiseringsformål. Deretter vil vi lære hvordan du genererer sentroider, forskjellige konturer og buffersoner for polygonene. \n",
        "\n",
        "La oss starte med å lese befolkningsdata fra Oslo kommune inn i en `GeoDataFrame`:"
      ]
    },
    {
      "cell_type": "code",
      "execution_count": null,
      "id": "7acca403-0eee-41cc-ba9c-9866ea5f1b8c",
      "metadata": {
        "editable": true,
        "slideshow": {
          "slide_type": ""
        },
        "tags": []
      },
      "outputs": [],
      "source": [
        "import geopandas as gpd\n",
        "import pathlib \n",
        "\n",
        "NOTEBOOK_PATH = pathlib.Path().resolve()\n",
        "DATA_MAPPE = NOTEBOOK_PATH / \"data\"\n",
        "\n",
        "# Les inn dataene og sjekk innholdet\n"
      ]
    },
    {
      "cell_type": "markdown",
      "id": "6f986ea3",
      "metadata": {
        "editable": true,
        "slideshow": {
          "slide_type": ""
        },
        "tags": []
      },
      "source": [
        "For geometriske manipulasjoner er det hovedsakelig geometrikolonnen som inneholder polygongeometriene vi er interesserte i. La oss inspisere hva som er lagret i geometrikolonnen vår:"
      ]
    },
    {
      "cell_type": "code",
      "execution_count": null,
      "id": "3c5b8fd0",
      "metadata": {
        "editable": true,
        "slideshow": {
          "slide_type": ""
        },
        "tags": []
      },
      "outputs": [],
      "source": []
    },
    {
      "cell_type": "code",
      "execution_count": null,
      "id": "bf17c2a8",
      "metadata": {
        "editable": true,
        "slideshow": {
          "slide_type": ""
        },
        "tags": []
      },
      "outputs": [],
      "source": [
        "# Sjekk datatypen til geometrikolonnen\n"
      ]
    },
    {
      "cell_type": "code",
      "execution_count": null,
      "id": "2640dc73",
      "metadata": {
        "editable": true,
        "slideshow": {
          "slide_type": ""
        },
        "tags": []
      },
      "outputs": [],
      "source": [
        "# Sjekk datatypen til en verdi i geometrikolonnen\n"
      ]
    },
    {
      "cell_type": "markdown",
      "id": "e524d8e9",
      "metadata": {
        "editable": true,
        "slideshow": {
          "slide_type": ""
        },
        "tags": []
      },
      "source": [
        "La oss plotte geometriene ved å bruke den innebygde `.plot()`-funksjonen i geopandas, og `matplotlib.pyplot` for å fjerne av akselinjer og etiketter:"
      ]
    },
    {
      "cell_type": "code",
      "execution_count": null,
      "id": "c8e4e801",
      "metadata": {
        "editable": true,
        "slideshow": {
          "slide_type": ""
        },
        "tags": []
      },
      "outputs": [],
      "source": [
        "import matplotlib.pyplot as plt\n",
        "\n",
        "\n",
        "\n",
        "plt.axis(\"off\")\n",
        "plt.show()"
      ]
    },
    {
      "cell_type": "markdown",
      "id": "11e9d77c",
      "metadata": {
        "editable": true,
        "slideshow": {
          "slide_type": ""
        },
        "tags": []
      },
      "source": [
        "## Centroid\n",
        "\n",
        "Sentroiden til en geometri er det geometriske sentrum av en gitt geometri (linje, polygon eller en geometrisamling). Å trekke ut tyngdepunktet til geometriske funksjoner er nyttig i mange tilfeller. Geometriske sentroider kan for eksempel brukes til å plassere tekst i visualiseringer. \n",
        "\n",
        "Vi kan trekke ut senterpunktet til hvert polygon via `centroid`-attributtet til `geometri`-kolonnen. Dataene bør ligge i et projisert koordinatreferansesystem ved beregning av tyngdepunktene. Hvis du prøver å beregne centroider basert på informasjon om breddegrad og lengdegrad, vil 'geopandas' advare oss om at resultatene sannsynligvis er (litt) feil. Vår `GeoDataFrame` er i WGS 84 (EPSG:4326) koordinatreferansesystem (CRS), så vi må transformere datasettet før vi kan fortsette med å beregne senterpunktene:"
      ]
    },
    {
      "cell_type": "code",
      "execution_count": null,
      "id": "2c71636e-13f3-4562-8e80-abfa3e6a6798",
      "metadata": {
        "editable": true,
        "slideshow": {
          "slide_type": ""
        },
        "tags": []
      },
      "outputs": [],
      "source": []
    },
    {
      "cell_type": "code",
      "execution_count": null,
      "id": "82b3fa31",
      "metadata": {},
      "outputs": [],
      "source": []
    },
    {
      "cell_type": "markdown",
      "id": "679e812c",
      "metadata": {},
      "source": [
        "Nå kan vi finne senterpunktet for alle bydelene:"
      ]
    },
    {
      "cell_type": "code",
      "execution_count": null,
      "id": "513407ce",
      "metadata": {
        "editable": true,
        "slideshow": {
          "slide_type": ""
        },
        "tags": []
      },
      "outputs": [],
      "source": []
    },
    {
      "cell_type": "markdown",
      "id": "d0446d74",
      "metadata": {
        "editable": true,
        "slideshow": {
          "slide_type": ""
        },
        "tags": []
      },
      "source": [
        "Vi kan også bruke metoden direkte på `GeoDataFrame` for å oppnå samme resultat ved å bruke syntaksen `data.centroid`. Samtidig kan vi også plotte sentroidene for en visuell sjekk:"
      ]
    },
    {
      "cell_type": "code",
      "execution_count": null,
      "id": "20270dc2",
      "metadata": {
        "editable": true,
        "slideshow": {
          "slide_type": ""
        },
        "tags": []
      },
      "outputs": [],
      "source": [
        "\n",
        "plt.axis(\"off\")\n",
        "plt.show()"
      ]
    },
    {
      "cell_type": "markdown",
      "id": "c055ea6a",
      "metadata": {
        "editable": true,
        "slideshow": {
          "slide_type": ""
        },
        "tags": []
      },
      "source": [
        "## Unær forening (Unary union)\n",
        "\n",
        "En unær foreningsoperasjon (unarry uion) kombinerer flere geometriske objekter til en enkelt, enhetlig geometrisk form. Vi kan generere en felles skisse for forvaltningsområdene gjennom å skape en geometrisk forening mellom alle geometrier. Dette kan være nyttig for eksempel for å visualisere konturene av et studieområde. `unary_union` (eller `union_all()` i senere versjoner av GeoPandas) returnerer et enkelt geometriobjekt, som automatisk visualiseres når koden kjøres i en Jupyter Notebook:"
      ]
    },
    {
      "cell_type": "code",
      "execution_count": null,
      "id": "201e8215",
      "metadata": {
        "editable": true,
        "slideshow": {
          "slide_type": ""
        },
        "tags": []
      },
      "outputs": [],
      "source": []
    },
    {
      "cell_type": "markdown",
      "id": "619de8d8-c0db-4f2d-948f-f31a63bfa902",
      "metadata": {},
      "source": [
        "`.unary_union` returnerer et `shapely` polygonobjekt ut av resultatene. Det er også mulig å slå sammen geometrier ved å bruke en metode kalt `.dissolve()` som returnerer en `GeoDataFrame` som output (med aggregert attributtinformasjon). \n",
        "\n",
        "Vi kan teste hvordan vi kan oppløse skillene mellom ulike polygoner med `dissolve()`:"
      ]
    },
    {
      "cell_type": "code",
      "execution_count": null,
      "id": "46d1a25f-c852-4106-8113-8a3fffa710d0",
      "metadata": {},
      "outputs": [],
      "source": [
        "# Slå sammen geometrier ved hjelp av dekningsalgoritme\n"
      ]
    },
    {
      "cell_type": "code",
      "execution_count": null,
      "id": "eb735fbc-366f-485e-98a7-ab99cf8d89df",
      "metadata": {
        "lines_to_next_cell": 0
      },
      "outputs": [],
      "source": [
        "# Få shapely geometrien\n"
      ]
    },
    {
      "cell_type": "markdown",
      "id": "6e7b6e18-1481-4016-85d2-75f875a85058",
      "metadata": {},
      "source": [
        "Som et resultat inneholder \"dissolved\"-variabelen nå den sammenslåtte geometrien så vel som attributtinformasjonen knyttet til den. Når vi ser på den returnerte geometrien, kan vi se at den er identisk med den som returneres av `.unary_union`-metoden. Legg merke til at som standard lagrer `.dissolve()` ganske enkelt den første raden med data som en attributtinformasjon. Det er imidlertid mulig å kontrollere hvordan attributtinformasjonen skal aggregeres/oppsummeres, f.eks. ved å summere verdiene.\n"
      ]
    },
    {
      "cell_type": "markdown",
      "id": "1684a61e",
      "metadata": {
        "editable": true,
        "slideshow": {
          "slide_type": ""
        },
        "tags": []
      },
      "source": [
        "## Avgrensende polygon (Bounding box)\n",
        "\n",
        "Et avgrensende polygon (bounding box), eller konvolutt, er det minste rektangulære polygonet som omslutter en gitt geometri eller et sett med geometrier. Det som å tegne et tettest mulig rektangel rundt en form, og fange alle punktene innenfor dette rektangelet. Det avgrensende polygonet brukes ofte i romlige operasjoner for midlertidig filtrering fordi det gir en beregningsmessig enkel måte å teste for mulige skjæringspunkter eller nærheter mellom geometrier som kan brukes til å velge data. Det er forskjellige måter å trekke ut et avgrensende polygon for en gitt geometri/geometrier, for eksempel aksejustert *envelope*, *minimum rotated rectangle* og *minimum bounding circle* som alle kan trekkes ut med `geopandas`.\n",
        "\n",
        "I en \"GeoDataFrame\" kan vi enkelt returnere det minimale aksejusterte begrensningsrektangelet for geometrier ved å bruke .envelope-attributtet som returnerer det avgrensende rektangelet for hver geometri:"
      ]
    },
    {
      "cell_type": "code",
      "execution_count": null,
      "id": "97e9b2da",
      "metadata": {
        "editable": true,
        "slideshow": {
          "slide_type": ""
        },
        "tags": []
      },
      "outputs": [],
      "source": []
    },
    {
      "cell_type": "markdown",
      "id": "ca420340",
      "metadata": {
        "editable": true,
        "slideshow": {
          "slide_type": ""
        },
        "tags": []
      },
      "source": [
        "For å få det avgrensende rektangelet for hele laget, lager vi først en forening av alle geometrier ved å bruke `.unary_union`, og trekker deretter ut det avgrensende rektangelet for det polygonet ved å bruke `.envelope`:"
      ]
    },
    {
      "cell_type": "code",
      "execution_count": null,
      "id": "b4f4fa02",
      "metadata": {
        "editable": true,
        "slideshow": {
          "slide_type": ""
        },
        "tags": []
      },
      "outputs": [],
      "source": []
    },
    {
      "cell_type": "markdown",
      "id": "503304c5",
      "metadata": {
        "editable": true,
        "slideshow": {
          "slide_type": ""
        },
        "tags": []
      },
      "source": [
        "Hjørnekoordinater til avgrensningsboksen for en \"GeoDataFrame\" kan hentes via attributtet \"total_bounds\":"
      ]
    },
    {
      "cell_type": "code",
      "execution_count": null,
      "id": "71b34782",
      "metadata": {
        "editable": true,
        "slideshow": {
          "slide_type": ""
        },
        "tags": []
      },
      "outputs": [],
      "source": []
    },
    {
      "cell_type": "markdown",
      "id": "ba66e485-9bf8-44a8-a9f2-1d153ea0508a",
      "metadata": {
        "editable": true,
        "slideshow": {
          "slide_type": ""
        },
        "tags": []
      },
      "source": [
        "\"bounds\"-attributtet returnerer de avgrensende koordinatene for hver rad:"
      ]
    },
    {
      "cell_type": "code",
      "execution_count": null,
      "id": "4716ca4d",
      "metadata": {
        "editable": true,
        "slideshow": {
          "slide_type": ""
        },
        "tags": []
      },
      "outputs": [],
      "source": []
    },
    {
      "cell_type": "markdown",
      "id": "b8778714-7dfc-4cf6-b1f3-fc06c6391741",
      "metadata": {},
      "source": [
        "På samme måte er det mulig å få *minimum rotated rectangle* og *minimum bounding circle* med `geopandas` ved å bruke henholdsvis `.minimum_rotated_rectangle()` og `.minimum_bounding_circle()` metodene. Her slår vi først sammen alle geometriene ved å bruke `.dissolve()`-metoden som vist tidligere, og bruker deretter den sammenslåtte geometrien for å få minimumsgrensende polygon:"
      ]
    },
    {
      "cell_type": "code",
      "execution_count": null,
      "id": "3ce84642-cce2-49a1-97c3-c1f1eca442a1",
      "metadata": {},
      "outputs": [],
      "source": []
    },
    {
      "cell_type": "code",
      "execution_count": null,
      "id": "9298beff-5fb1-4e1b-82de-cc15a0eb4c60",
      "metadata": {},
      "outputs": [],
      "source": []
    },
    {
      "cell_type": "markdown",
      "id": "f0083874-e7de-4b59-ae4b-be3805fa2d3c",
      "metadata": {},
      "source": [
        "Som man kan se fra geometriene ovenfor, kan *minimum rotated rectangle* rotere rundt inputgeometriene og har som mål å omslutte dem så tett som mulig. *Minimumssirkelen* skaper igjen en sirkel rundt geometriene på en måte som gjør at hver geometri er omsluttet av sirkelen. Avhengig av brukstilfellet kan alle disse metodene være nyttige når du arbeider med geografiske data."
      ]
    },
    {
      "cell_type": "markdown",
      "id": "77a0fb3f",
      "metadata": {
        "editable": true,
        "slideshow": {
          "slide_type": ""
        },
        "tags": []
      },
      "source": [
        "### Konvekst skrog (Convex hull)\n",
        "\n",
        "En litt mer detaljert avgrensning av datautstrekningen kan trekkes ut ved å bruke et konvekst skrog (Convex hull) som representerer det minste mulige polygonet som inneholder alle punktene i et objekt. For å illustrere dette, se for deg å strekke en gummistrikk rundt et sett med punkter. Når den er sluppet, vil gummibåndet smekke inn i formen til det konvekse skroget, som vikler seg rundt de ytterste punktene. Dermed utelukker den punkter som er \"innrykk\" i formen. I geoberegning brukes det konvekse skroget til ulike oppgaver da det enkelt kan gi en forenklet representasjon av et sett med punkter eller en mer kompleks geometri.\n",
        "\n",
        "I geopandas kan vi bruke et attributt `.convex_hull` for å returnere det konvekse skroget av geometrier. På samme måte som med unær forening, hvis vi bruker den konvekse skrogmetoden på hele `GeoDataFrame`, vil vi få en GeoSeries som inneholder et konveks skrog for hver polygon separat:"
      ]
    },
    {
      "cell_type": "code",
      "execution_count": null,
      "id": "bb36174e",
      "metadata": {
        "editable": true,
        "slideshow": {
          "slide_type": ""
        },
        "tags": []
      },
      "outputs": [],
      "source": []
    },
    {
      "cell_type": "markdown",
      "id": "43b74573",
      "metadata": {
        "editable": true,
        "slideshow": {
          "slide_type": ""
        },
        "tags": []
      },
      "source": [
        "For å lage et konvekst skrog for hele utstrekningen, må vi først lage en forening av alle polygoner."
      ]
    },
    {
      "cell_type": "code",
      "execution_count": null,
      "id": "a5787843",
      "metadata": {
        "editable": true,
        "slideshow": {
          "slide_type": ""
        },
        "tags": []
      },
      "outputs": [],
      "source": []
    },
    {
      "cell_type": "markdown",
      "id": "d41ed12b",
      "metadata": {
        "editable": true,
        "slideshow": {
          "slide_type": ""
        },
        "tags": []
      },
      "source": [
        "## Forenkling av geometrier\n",
        "\n",
        "Geometrisk forenkling er en nyttig prosess, spesielt når du visualiserer data som inneholder svært detaljerte geometrier. Geopandas har en funksjon kalt `.simplify()` som er en annen måte å forenkle geometrier på. `tolerance`-parameteren kan brukes til å kontrollere nivået av forenkling. Enhetene for denne parameteren følger inputkoordinatene. Dette betyr at f.eks. med `tolerance=1000` står toleransen for 1000 meter fordi våre inndata er i et projisert (metrisk) koordinatsystem. Imidlertid, i tilfelle inputdataene ville ha lat/lon-koordinater, bør toleransen angis som desimalgrader."
      ]
    },
    {
      "cell_type": "code",
      "execution_count": null,
      "id": "043d2c81",
      "metadata": {
        "editable": true,
        "slideshow": {
          "slide_type": ""
        },
        "tags": []
      },
      "outputs": [],
      "source": []
    },
    {
      "cell_type": "markdown",
      "id": "33263160-b939-4ba2-978f-51dba89963d6",
      "metadata": {
        "editable": true,
        "jp-MarkdownHeadingCollapsed": true,
        "slideshow": {
          "slide_type": ""
        },
        "tags": []
      },
      "source": [
        "På lignende måte som før, kan vi enkelt bruke `.simplify()` på omfanget av alle geometrier ved først å få den unære unionen av inngangsgeometriene:"
      ]
    },
    {
      "cell_type": "code",
      "execution_count": null,
      "id": "d7c3ab32-b405-41cc-9694-b417493882c3",
      "metadata": {
        "editable": true,
        "slideshow": {
          "slide_type": ""
        },
        "tags": []
      },
      "outputs": [],
      "source": []
    },
    {
      "cell_type": "markdown",
      "id": "b5028679-f62f-4f6a-a40f-bf41c3e75bd0",
      "metadata": {
        "editable": true,
        "slideshow": {
          "slide_type": ""
        },
        "tags": []
      },
      "source": [
        "## Buffer\n",
        "\n",
        "En buffer refererer til en geometrisk operasjon som skaper en sone rundt en gitt geometri (eller geometrier), som vanligvis representerer en viss avstand fra formen. Denne sonen/bufferen kan visualiseres som et utvidet område rundt den opprinnelige formen, eller omvendt, et sammentrukket område inne i formen hvis bufferavstanden er negativ. Bufring er en vanlig romlig operasjon som har et mangfold av brukstilfeller i romlige analyser. For eksempel i transportnettanalyser er det greit å hente transportnettet også fra utenfor undersøkelsesområdet for å fange opp ruter som går utover undersøkelsesområdegrensen.\n",
        "\n",
        "I geopandas kan vi enkelt lage buffere ved å bruke metoden `.buffer()` som kan brukes på alle geometrier samtidig på samme måte som våre tidligere eksempler. Parameteren `distance` i funksjonen `.buffer()` definerer radiusen til bufferen (i henhold til koordinatsystemet til dataene). I det følgende vil vi bruke en 1000 meter buffer på hele 'GeoDataFrame'-en som vil produsere separate buffere for hver bydel:"
      ]
    },
    {
      "cell_type": "code",
      "execution_count": null,
      "id": "7a0d6e13-c50b-454c-821f-49054ad5e5de",
      "metadata": {
        "editable": true,
        "slideshow": {
          "slide_type": ""
        },
        "tags": []
      },
      "outputs": [],
      "source": [
        "# 1000 m buffer for hver polygon\n",
        "\n",
        "\n",
        "plt.axis(\"off\")\n",
        "plt.show()"
      ]
    },
    {
      "cell_type": "markdown",
      "id": "6a274f4d-c74b-46fe-a6b7-b50af55cc61a",
      "metadata": {
        "editable": true,
        "slideshow": {
          "slide_type": ""
        },
        "tags": []
      },
      "source": [
        "Hvis vi bare vil ha én buffer for hele området, må vi først kombinere geometriene til ett objekt før bufferanalysen:"
      ]
    },
    {
      "cell_type": "code",
      "execution_count": null,
      "id": "4c309b0e-d43b-43bd-9807-6b39f57d8552",
      "metadata": {
        "editable": true,
        "slideshow": {
          "slide_type": ""
        },
        "tags": []
      },
      "outputs": [],
      "source": [
        "# 1000 m buffer for hver polygon\n"
      ]
    },
    {
      "cell_type": "markdown",
      "id": "e23b5d9e-0cad-424c-b8ec-fe6edb1ab44e",
      "metadata": {
        "editable": true,
        "slideshow": {
          "slide_type": ""
        },
        "tags": []
      },
      "source": [
        "Buffer kan brukes med forskjellige geometrityper, også med `Point` og `LineString` objekter. Det er nyttig å legge merke til at hvis du bruker en buffer for punkter eller polygoner, vil den resulterende geometrien alltid være en \"polygon\"."
      ]
    },
    {
      "cell_type": "markdown",
      "id": "9c497d6b",
      "metadata": {
        "editable": true,
        "slideshow": {
          "slide_type": ""
        },
        "tags": []
      },
      "source": [
        "## Oppløsning og sammenslåing av geometrier\n",
        "\n",
        "Aggregering av romlige data refererer til å kombinere geometrier til grovere romlige enheter basert på noen attributter. Prosessen kan også omfatte beregning av sammendragsstatistikk. I `geopandas` er det en metode kalt `.dissolve()` som grupperer dataene basert på en spesifikk attributtkolonne og deretter produserer en forening av geometriene for hver gruppe i det attributtet. Samtidig kan vi også få oppsummerende statistikk over attributtene.\n",
        "\n",
        "For å demonstrere hvordan dissolve fungerer med dataene våre, la oss lage en ny kolonne i 'GeoDataFrame'-en for å indikere bydeler med befolkningstetthet over gjennomsnittet. \n",
        "La oss først regne ut arealet for hver bydel, og deretter befolkningstettheten.\n",
        "\n"
      ]
    },
    {
      "cell_type": "code",
      "execution_count": 25,
      "id": "5e7d4df9",
      "metadata": {},
      "outputs": [],
      "source": [
        "# Legge til en ny kolonne hvor vi regner ut arealet\n",
        "\n",
        "\n",
        "# Regne ut befolkningstetthet i ny kolonne\n",
        "\n",
        "\n",
        "# La oss også proppe radene med 0 i \"befolkning_2024\"\n"
      ]
    },
    {
      "cell_type": "markdown",
      "id": "8874ecc2",
      "metadata": {},
      "source": [
        "Vi kan nå legge til en ny tom kolonne \"tetthet\" og legge til verdier som indikerer over og under gjennomsnittlig befolkningstetthet per bydel:"
      ]
    },
    {
      "cell_type": "code",
      "execution_count": 37,
      "id": "3162e4db-debd-48c1-9692-1f217e9bc3bd",
      "metadata": {
        "editable": true,
        "slideshow": {
          "slide_type": ""
        },
        "tags": []
      },
      "outputs": [],
      "source": [
        "# Opprett en ny kolonne og legg til en konstant verdi\n",
        "\n",
        "# Filtrer rader med befolkningstetthet over gjennomsnittet og oppdater kolonnen \"tetthet\"\n"
      ]
    },
    {
      "cell_type": "markdown",
      "id": "64de88a1-150b-4480-b43f-7a630234ba91",
      "metadata": {
        "editable": true,
        "slideshow": {
          "slide_type": ""
        },
        "tags": []
      },
      "source": [
        "Etter dette steget skal vi ha flere rader med tallene `0` og `1`, der tallet én indikerer et tett befolket område. Vi kan enkelt sjekke hvor mange tettbefolkede bydeler vi fikk ved å bruke `.value_counts()`-metoden fra pandas:"
      ]
    },
    {
      "cell_type": "code",
      "execution_count": null,
      "id": "f118efac-088c-4e9f-a11f-fbdbe533f619",
      "metadata": {
        "editable": true,
        "slideshow": {
          "slide_type": ""
        },
        "tags": []
      },
      "outputs": [],
      "source": []
    },
    {
      "cell_type": "markdown",
      "id": "08f33ba0-a40c-4ff9-a89e-431b0aadbfae",
      "metadata": {
        "editable": true,
        "slideshow": {
          "slide_type": ""
        },
        "tags": []
      },
      "source": [
        "Nå kan vi bruke denne `tetthet`-kolonnen til å løse opp dataene i to grupper ved å bruke `.dissolve()`-funksjonen. Samtidig kan vi summere verdiene i `befolkningstetthet` og `areal_km2`-kolonnene ved å bruke `aggfunc`-parameteren. Aggregeringen krever at vi velger de numeriske kolonnene som vi ønsker å inkludere i utdataene (som er indikert med listen over kolonnenavn nedenfor):"
      ]
    },
    {
      "cell_type": "code",
      "execution_count": null,
      "id": "6599efec",
      "metadata": {
        "editable": true,
        "slideshow": {
          "slide_type": ""
        },
        "tags": []
      },
      "outputs": [],
      "source": [
        "# Gjennomfør aggregeringen\n"
      ]
    },
    {
      "cell_type": "markdown",
      "id": "2c4cfd0a",
      "metadata": {
        "editable": true,
        "slideshow": {
          "slide_type": ""
        },
        "tags": []
      },
      "source": [
        "De oppløste dataene skal ha like mange rader med data som det var unike verdier i kolonnen - én rad for hver unike verdi. Dataene våre har blitt komprimert til to geometriske objekter, og kolonnen som brukes for å løse opp dataene kan nå finnes i indeksen. Attributtkolonnene representerer summen av verdiene per gruppe. Vi kan tilbakestille indeksen og sette inn den kategoriske informasjonen i en ny kolonne, hvoretter vi kan gjøre en rask visualisering av resultatet:"
      ]
    },
    {
      "cell_type": "code",
      "execution_count": 29,
      "id": "dba0696b-d2e1-4d0e-9198-eef3a08a9ef0",
      "metadata": {
        "editable": true,
        "slideshow": {
          "slide_type": ""
        },
        "tags": []
      },
      "outputs": [],
      "source": []
    },
    {
      "cell_type": "code",
      "execution_count": null,
      "id": "f47f66dc-ce30-4133-b2a3-84bd4443ce9f",
      "metadata": {
        "editable": true,
        "slideshow": {
          "slide_type": ""
        },
        "tags": []
      },
      "outputs": [],
      "source": [
        "\n",
        "\n",
        "plt.axis(\"off\")\n",
        "plt.show()"
      ]
    },
    {
      "cell_type": "markdown",
      "id": "5c391d9b",
      "metadata": {},
      "source": [
        "## Endre den aktive geometrien i en GeoDataFrame\n",
        "\n",
        "I de forrige eksemplene lagret vi egentlig ikke de manipulerte geometriene noe sted, vi har stort sett skrevet ut eller plottet resultatene av de geometriske operasjonene direkte.\n",
        "\n",
        "I noen tilfeller, som når vi beregnet sentroidene i de forrige eksemplene, vil vi faktisk lagre sentroidene i en GeoDataFrame. Det kan være nyttig fordi man da kan fortsette å behandle eller analysere dataene basert på disse geometriene. Å lagre og oppdatere geometriene i en GeoDataFrame kan gjøres enkelt med geopandas, og faktisk kan du ha flere kolonner som inneholder geometriske objekter. Det finnes flere tilnærminger for å oppdatere geometriene i en GeoDataFrame:\n",
        "\n",
        "1. Overskriv de eksisterende geometriene i geometrikolonnen ved å lagre de nye (manipulerte) geometriene i den.\n",
        "\n",
        "2. Opprett en ny kolonne (f.eks. centroid) og lagre de nye geometriene i denne. Deretter aktiverer/setter du denne kolonnen som den \"aktive geometrien\" for din GeoDataFrame. På denne måten kan du ha flere kolonner samtidig som inneholder geometriske objekter i en GeoDataFrame, noe som kan være veldig praktisk!\n",
        "\n",
        "Noen viktige bemerkninger om disse tilnærmingene: Alternativ 1 er veldig enkelt å gjøre, men ulempen med det er at du ikke lenger har tilgang til de opprinnelige geometriene (f.eks. polygoner). Alternativ 2 krever et par trinn, men fordelen med det er at du enkelt kan bytte mellom de opprinnelige geometriene og sentroidene i dataene dine. Imidlertid, når du lagrer de geografiske dataene på disk, kan du i de fleste tilfeller bare inkludere én kolonne med geometriske objekter. Derfor må du senest på dette stadiet bestemme hvilken kolonne som skal brukes til å representere de geometriske objektene i dataene dine."
      ]
    },
    {
      "cell_type": "code",
      "execution_count": null,
      "id": "6b5f035b",
      "metadata": {},
      "outputs": [],
      "source": [
        "# Lag en kopi av de originale dataene"
      ]
    },
    {
      "cell_type": "code",
      "execution_count": null,
      "id": "7612c3aa",
      "metadata": {},
      "outputs": [],
      "source": [
        "# Oppdater geometrikolonnen men senterpunktene"
      ]
    },
    {
      "cell_type": "markdown",
      "id": "b5bf6fac",
      "metadata": {},
      "source": [
        "\n",
        "Her ble polygonene i geometrikolonnen erstattet og fylt med punktobjekter som representerer sentroidene til polygonene. Med denne tilnærmingen har vi nå slettet de opprinnelige polygongeometriene.\n",
        "\n",
        "Det andre alternativet er å opprette en ny kolonne for å lagre sentroidene og deretter bruke denne kolonnen som kilden for å representere geometriene til den gitte GeoDataFrame:"
      ]
    },
    {
      "cell_type": "code",
      "execution_count": null,
      "id": "a57d6db9",
      "metadata": {},
      "outputs": [],
      "source": [
        "# Lag en kopi av de originale dataene og lat en kolonne med sentroidene"
      ]
    },
    {
      "cell_type": "markdown",
      "id": "08d49445",
      "metadata": {},
      "source": [
        "Nå har vi en GeoDataframe med både en kolonne som heter `geometry` og en som heter `centroid`. Begge inneholder geometriobjekter, men som standard bruker GeoPandas alltid `geometry`-kolonnen som den aktive geometrikolonnen.\n",
        "\n",
        "Men vi kan enkelt velge hviken kolonne som skal være den aktive geometrikolonnen ved å bruke metoden `.set_geometry()`\n"
      ]
    },
    {
      "cell_type": "code",
      "execution_count": null,
      "id": "86814b5d",
      "metadata": {},
      "outputs": [],
      "source": [
        "# Velg sentroide-kolonnen som den aktive geometrikolonnen"
      ]
    },
    {
      "cell_type": "markdown",
      "id": "0c91cb94",
      "metadata": {},
      "source": [
        "Dataene ser nå helt like ut, men vi kan se nærmere på `.geometry.name`-attributtet til GeoDataFramen for å se hvilken kolonnne som faktisk blir brukt som den aktive geometrikolonnen:"
      ]
    },
    {
      "cell_type": "code",
      "execution_count": null,
      "id": "d8a12f0e",
      "metadata": {},
      "outputs": [],
      "source": []
    },
    {
      "cell_type": "markdown",
      "id": "2ce36995",
      "metadata": {},
      "source": [
        "Og vi kan også plotte GeoDataFramen for å inspisere det visuelt:"
      ]
    },
    {
      "cell_type": "code",
      "execution_count": null,
      "id": "78432823",
      "metadata": {},
      "outputs": [],
      "source": []
    }
  ],
  "metadata": {
    "kernelspec": {
      "display_name": "Python 3 (ipykernel)",
      "language": "python",
      "name": "python3"
    },
    "language_info": {
      "codemirror_mode": {
        "name": "ipython",
        "version": 3
      },
      "file_extension": ".py",
      "mimetype": "text/x-python",
      "name": "python",
      "nbconvert_exporter": "python",
      "pygments_lexer": "ipython3",
      "version": "3.11.9"
    }
  },
  "nbformat": 4,
  "nbformat_minor": 5
}
